{
 "cells": [
  {
   "cell_type": "code",
   "execution_count": 1,
   "metadata": {},
   "outputs": [
    {
     "name": "stderr",
     "output_type": "stream",
     "text": [
      "/opt/conda/lib/python3.10/site-packages/tqdm/auto.py:21: TqdmWarning: IProgress not found. Please update jupyter and ipywidgets. See https://ipywidgets.readthedocs.io/en/stable/user_install.html\n",
      "  from .autonotebook import tqdm as notebook_tqdm\n"
     ]
    }
   ],
   "source": [
    "import surrogate_model\n",
    "import argparse\n",
    "import numpy as np\n",
    "import pandas as pd\n",
    "import src.dynamic_pipeline as dynamic_pipeline"
   ]
  },
  {
   "cell_type": "code",
   "execution_count": 2,
   "metadata": {},
   "outputs": [],
   "source": [
    "df = pd.read_csv('./data/concrete.csv')\n",
    "# df = dynamic_pipeline.preprocess_dynamic(df)"
   ]
  },
  {
   "cell_type": "code",
   "execution_count": 3,
   "metadata": {},
   "outputs": [
    {
     "name": "stdout",
     "output_type": "stream",
     "text": [
      "제거된 컬럼이 없습니다.\n",
      "cement: 비대칭 분포로 확인됨. IQR 방식 적용.\n",
      "slag: 비대칭 분포로 확인됨. IQR 방식 적용.\n",
      "ash: 비대칭 분포로 확인됨. IQR 방식 적용.\n",
      "water: 비대칭 분포로 확인됨. IQR 방식 적용.\n",
      "superplastic: 비대칭 분포로 확인됨. IQR 방식 적용.\n",
      "coarseagg: 비대칭 분포로 확인됨. IQR 방식 적용.\n",
      "fineagg: 비대칭 분포로 확인됨. IQR 방식 적용.\n",
      "age: 비대칭 분포로 확인됨. IQR 방식 적용.\n",
      "strength: 비대칭 분포로 확인됨. IQR 방식 적용.\n",
      "cement: 값 범위 중요 → MinMaxScaler 적용\n",
      "slag: 값 범위 중요 → MinMaxScaler 적용\n",
      "ash: 값 범위 중요 → MinMaxScaler 적용\n",
      "water: 값 범위 중요 → MinMaxScaler 적용\n",
      "superplastic: 값 범위 중요 → MinMaxScaler 적용\n",
      "coarseagg: 값 범위 중요 → MinMaxScaler 적용\n",
      "fineagg: 값 범위 중요 → MinMaxScaler 적용\n",
      "age: 비대칭 분포 → RobustScaler 적용\n",
      "strength: 값 범위 중요 → MinMaxScaler 적용\n"
     ]
    }
   ],
   "source": [
    "ret_dict = dynamic_pipeline.preprocess_dynamic(df)"
   ]
  },
  {
   "cell_type": "code",
   "execution_count": 4,
   "metadata": {},
   "outputs": [],
   "source": [
    "ret_dict['processed_df'].to_csv('./data/temp.csv', index=False)"
   ]
  },
  {
   "cell_type": "code",
   "execution_count": 5,
   "metadata": {},
   "outputs": [],
   "source": [
    "# args = argparse.Namespace(\n",
    "#     target = ['strength'],\n",
    "#     data_path='./data/temp.csv',\n",
    "#     model='catboost',\n",
    "#     prj_id = 40,\n",
    "#     seed=40\n",
    "# )\n",
    "# surrogate_model.main(args, ret_dict['scalers'])"
   ]
  },
  {
   "cell_type": "code",
   "execution_count": 6,
   "metadata": {},
   "outputs": [
    {
     "name": "stderr",
     "output_type": "stream",
     "text": [
      "2025-02-03 15:31:18,374 - INFO - X_train.shape: (740, 8)\n",
      "2025-02-03 15:31:18,375 - INFO - X_test.shape: (186, 8)\n",
      "2025-02-03 15:31:18,376 - INFO - y_train.shape: (740, 1)\n",
      "2025-02-03 15:31:18,376 - INFO - y_test.shape: (186, 1)\n",
      "/opt/conda/lib/python3.10/site-packages/sklearn/utils/validation.py:1408: DataConversionWarning: A column-vector y was passed when a 1d array was expected. Please change the shape of y to (n_samples, ), for example using ravel().\n",
      "  y = column_or_1d(y, warn=True)\n"
     ]
    },
    {
     "name": "stdout",
     "output_type": "stream",
     "text": [
      "(186, 1)\n",
      "(186, 1)\n",
      "       rmse       mae        r2\n",
      "0  0.056054  0.033351  0.927159\n",
      "(186, 1) (186, 1)\n",
      "(186, 1)\n"
     ]
    }
   ],
   "source": [
    "args = argparse.Namespace(\n",
    "    target = ['strength'],\n",
    "    data_path='./data/temp.csv',\n",
    "    model='tabpfn',\n",
    "    prj_id = 40,\n",
    "    seed=40\n",
    ")\n",
    "surrogate_model.main(args, ret_dict['scalers'])"
   ]
  },
  {
   "cell_type": "code",
   "execution_count": 7,
   "metadata": {},
   "outputs": [],
   "source": [
    "import os"
   ]
  },
  {
   "cell_type": "code",
   "execution_count": 8,
   "metadata": {},
   "outputs": [
    {
     "data": {
      "text/plain": [
       "['importance.csv', 'eval.csv', 'surrogate_model.csv', 'model.cbm', 'model.pkl']"
      ]
     },
     "execution_count": 8,
     "metadata": {},
     "output_type": "execute_result"
    }
   ],
   "source": [
    "os.listdir('./prj/40/surrogate_model')"
   ]
  },
  {
   "cell_type": "code",
   "execution_count": 9,
   "metadata": {},
   "outputs": [],
   "source": [
    "import search_model"
   ]
  },
  {
   "cell_type": "code",
   "execution_count": null,
   "metadata": {},
   "outputs": [],
   "source": []
  },
  {
   "cell_type": "code",
   "execution_count": 10,
   "metadata": {},
   "outputs": [],
   "source": [
    "controll_range = df.drop(columns=['strength']).columns.tolist()\n",
    "controll_range = {col: (df[col].min(), df[col].max()) for col in controll_range}\n"
   ]
  },
  {
   "cell_type": "code",
   "execution_count": null,
   "metadata": {},
   "outputs": [],
   "source": []
  },
  {
   "cell_type": "code",
   "execution_count": 11,
   "metadata": {},
   "outputs": [
    {
     "data": {
      "text/plain": [
       "{'cement': (102.0, 540.0),\n",
       " 'slag': (0.0, 359.4),\n",
       " 'ash': (0.0, 200.1),\n",
       " 'water': (121.8, 247.0),\n",
       " 'superplastic': (0.0, 32.2),\n",
       " 'coarseagg': (801.0, 1145.0),\n",
       " 'fineagg': (594.0, 992.6),\n",
       " 'age': (1, 365)}"
      ]
     },
     "execution_count": 11,
     "metadata": {},
     "output_type": "execute_result"
    }
   ],
   "source": [
    "controll_range"
   ]
  },
  {
   "cell_type": "code",
   "execution_count": 12,
   "metadata": {},
   "outputs": [
    {
     "name": "stdout",
     "output_type": "stream",
     "text": [
      "2.33 ~ 82.6\n"
     ]
    }
   ],
   "source": [
    "print(df['strength'].min(),'~',df['strength'].max())"
   ]
  },
  {
   "cell_type": "code",
   "execution_count": 13,
   "metadata": {},
   "outputs": [],
   "source": [
    "from src.datasets.data_loader import load_data"
   ]
  },
  {
   "cell_type": "code",
   "execution_count": 14,
   "metadata": {},
   "outputs": [],
   "source": [
    "df_scaled = load_data(args.data_path)\n",
    "X = df_scaled.drop(columns=args.target)\n",
    "y = df_scaled[args.target]\n",
    "x_col_list = X.columns.tolist()\n",
    "\n",
    "X_train,y_train = X.to_numpy(),y.to_numpy()\n"
   ]
  },
  {
   "cell_type": "code",
   "execution_count": 15,
   "metadata": {},
   "outputs": [],
   "source": [
    "scalers = ret_dict['scalers']"
   ]
  },
  {
   "cell_type": "code",
   "execution_count": 16,
   "metadata": {},
   "outputs": [],
   "source": [
    "# user_req = scalers['strength'].transform(np.array(args.user_request_target[0]).reshape(-1,1))"
   ]
  },
  {
   "cell_type": "code",
   "execution_count": 17,
   "metadata": {},
   "outputs": [],
   "source": [
    "ur = []\n",
    "ur.append(np.array(40.0).reshape(-1,1)[0])\n",
    "ur = np.array(ur)"
   ]
  },
  {
   "cell_type": "code",
   "execution_count": 18,
   "metadata": {},
   "outputs": [
    {
     "data": {
      "text/plain": [
       "array([[40.]])"
      ]
     },
     "execution_count": 18,
     "metadata": {},
     "output_type": "execute_result"
    }
   ],
   "source": [
    "ur"
   ]
  },
  {
   "cell_type": "code",
   "execution_count": 19,
   "metadata": {},
   "outputs": [],
   "source": [
    "x,y = search_model.find_top_k_similar_with_user_request(ur,X_train,y_train,k=50)"
   ]
  },
  {
   "cell_type": "code",
   "execution_count": 20,
   "metadata": {},
   "outputs": [
    {
     "data": {
      "text/plain": [
       "(50, 1)"
      ]
     },
     "execution_count": 20,
     "metadata": {},
     "output_type": "execute_result"
    }
   ],
   "source": [
    "x.shape\n",
    "y.shape\n"
   ]
  },
  {
   "cell_type": "code",
   "execution_count": 21,
   "metadata": {},
   "outputs": [],
   "source": [
    "from src.datasets.data_loader import load_data"
   ]
  },
  {
   "cell_type": "code",
   "execution_count": 31,
   "metadata": {},
   "outputs": [],
   "source": [
    "args = argparse.Namespace(\n",
    "    model='tabpfn',\n",
    "    search_model='k_means',\n",
    "    data_path='./data/temp.csv',\n",
    "    controll_name=['cement', 'slag', 'ash', 'water', 'superplastic', 'coarseagg', 'fineagg', 'age'],\n",
    "    controll_range= controll_range,\n",
    "    target=['strength'],\n",
    "    importance={'cement': 1,\n",
    "                'water': 2,\n",
    "    },\n",
    "    optimize={'cement': 'minimize',\n",
    "                'water': 'minimize',\n",
    "    },\n",
    "    prj_id=40,\n",
    "    seed=40,\n",
    "    user_request_target=[40.0]\n",
    ")"
   ]
  },
  {
   "cell_type": "code",
   "execution_count": 32,
   "metadata": {},
   "outputs": [
    {
     "name": "stderr",
     "output_type": "stream",
     "text": [
      "/opt/conda/lib/python3.10/site-packages/sklearn/utils/validation.py:2739: UserWarning: X does not have valid feature names, but MinMaxScaler was fitted with feature names\n",
      "  warnings.warn(\n",
      "/opt/conda/lib/python3.10/site-packages/sklearn/utils/validation.py:2739: UserWarning: X does not have valid feature names, but MinMaxScaler was fitted with feature names\n",
      "  warnings.warn(\n",
      "/opt/conda/lib/python3.10/site-packages/sklearn/utils/validation.py:2739: UserWarning: X does not have valid feature names, but MinMaxScaler was fitted with feature names\n",
      "  warnings.warn(\n",
      "/opt/conda/lib/python3.10/site-packages/sklearn/utils/validation.py:2739: UserWarning: X does not have valid feature names, but MinMaxScaler was fitted with feature names\n",
      "  warnings.warn(\n",
      "/opt/conda/lib/python3.10/site-packages/sklearn/utils/validation.py:2739: UserWarning: X does not have valid feature names, but MinMaxScaler was fitted with feature names\n",
      "  warnings.warn(\n",
      "/opt/conda/lib/python3.10/site-packages/sklearn/utils/validation.py:2739: UserWarning: X does not have valid feature names, but MinMaxScaler was fitted with feature names\n",
      "  warnings.warn(\n",
      "/opt/conda/lib/python3.10/site-packages/sklearn/utils/validation.py:2739: UserWarning: X does not have valid feature names, but MinMaxScaler was fitted with feature names\n",
      "  warnings.warn(\n",
      "/opt/conda/lib/python3.10/site-packages/sklearn/utils/validation.py:2739: UserWarning: X does not have valid feature names, but RobustScaler was fitted with feature names\n",
      "  warnings.warn(\n",
      "/opt/conda/lib/python3.10/site-packages/sklearn/utils/validation.py:2739: UserWarning: X does not have valid feature names, but MinMaxScaler was fitted with feature names\n",
      "  warnings.warn(\n",
      "2025-02-03 15:38:44,688 - INFO - X_train.shape: (926, 8)\n",
      "2025-02-03 15:38:44,689 - INFO - X_test.shape: (5, 8)\n",
      "2025-02-03 15:38:44,690 - INFO - y_train.shape: (926, 1)\n",
      "2025-02-03 15:38:44,690 - INFO - y_test.shape: (5, 1)\n",
      "/opt/conda/lib/python3.10/site-packages/deap/creator.py:185: RuntimeWarning: A class named 'FitnessMax' has already been created and it will be overwritten. Consider deleting previous creation of that class or rename it.\n",
      "  warnings.warn(\"A class named '{0}' has already been created and it \"\n",
      "/opt/conda/lib/python3.10/site-packages/deap/creator.py:185: RuntimeWarning: A class named 'Individual' has already been created and it will be overwritten. Consider deleting previous creation of that class or rename it.\n",
      "  warnings.warn(\"A class named '{0}' has already been created and it \"\n"
     ]
    },
    {
     "name": "stdout",
     "output_type": "stream",
     "text": [
      "TabPFNRegressor(device='cuda')\n",
      "x_min :  [ 0.          0.          0.         -0.05148515  0.          0.\n",
      " -0.03235294 -1.28571429]\n",
      "x_max :  [ 1.          1.05057001  1.          1.18811881  1.45701357  1.\n",
      "  1.14       16.04761905]\n"
     ]
    },
    {
     "name": "stderr",
     "output_type": "stream",
     "text": [
      "0it [00:00, ?it/s]WARNING clustering 2000 points to 666 centroids: please provide at least 25974 training points\n",
      "WARNING clustering 2000 points to 666 centroids: please provide at least 25974 training points\n",
      "WARNING clustering 2000 points to 666 centroids: please provide at least 25974 training points\n",
      "WARNING clustering 2000 points to 666 centroids: please provide at least 25974 training points\n",
      "WARNING clustering 2000 points to 666 centroids: please provide at least 25974 training points\n",
      "WARNING clustering 2000 points to 666 centroids: please provide at least 25974 training points\n",
      "WARNING clustering 2000 points to 666 centroids: please provide at least 25974 training points\n",
      "WARNING clustering 2000 points to 666 centroids: please provide at least 25974 training points\n",
      "WARNING clustering 2000 points to 666 centroids: please provide at least 25974 training points\n",
      "WARNING clustering 2000 points to 666 centroids: please provide at least 25974 training points\n",
      "WARNING clustering 2000 points to 666 centroids: please provide at least 25974 training points\n",
      "WARNING clustering 2000 points to 666 centroids: please provide at least 25974 training points\n",
      "WARNING clustering 2000 points to 666 centroids: please provide at least 25974 training points\n",
      "WARNING clustering 2000 points to 666 centroids: please provide at least 25974 training points\n",
      "WARNING clustering 2000 points to 666 centroids: please provide at least 25974 training points\n",
      "WARNING clustering 2000 points to 666 centroids: please provide at least 25974 training points\n",
      "WARNING clustering 2000 points to 666 centroids: please provide at least 25974 training points\n",
      "WARNING clustering 2000 points to 666 centroids: please provide at least 25974 training points\n",
      "WARNING clustering 2000 points to 666 centroids: please provide at least 25974 training points\n",
      "WARNING clustering 2000 points to 666 centroids: please provide at least 25974 training points\n",
      "WARNING clustering 2000 points to 666 centroids: please provide at least 25974 training points\n",
      "WARNING clustering 2000 points to 666 centroids: please provide at least 25974 training points\n",
      "WARNING clustering 2000 points to 666 centroids: please provide at least 25974 training points\n",
      "WARNING clustering 2000 points to 666 centroids: please provide at least 25974 training points\n",
      "WARNING clustering 2000 points to 666 centroids: please provide at least 25974 training points\n",
      "WARNING clustering 2000 points to 666 centroids: please provide at least 25974 training points\n",
      "WARNING clustering 2000 points to 666 centroids: please provide at least 25974 training points\n",
      "WARNING clustering 2000 points to 666 centroids: please provide at least 25974 training points\n",
      "WARNING clustering 2000 points to 666 centroids: please provide at least 25974 training points\n",
      "WARNING clustering 2000 points to 666 centroids: please provide at least 25974 training points\n",
      "WARNING clustering 2000 points to 666 centroids: please provide at least 25974 training points\n",
      "WARNING clustering 2000 points to 666 centroids: please provide at least 25974 training points\n",
      "WARNING clustering 2000 points to 666 centroids: please provide at least 25974 training points\n",
      "WARNING clustering 2000 points to 666 centroids: please provide at least 25974 training points\n",
      "WARNING clustering 2000 points to 666 centroids: please provide at least 25974 training points\n",
      "WARNING clustering 2000 points to 666 centroids: please provide at least 25974 training points\n",
      "WARNING clustering 2000 points to 666 centroids: please provide at least 25974 training points\n",
      "WARNING clustering 2000 points to 666 centroids: please provide at least 25974 training points\n",
      "WARNING clustering 2000 points to 666 centroids: please provide at least 25974 training points\n",
      "WARNING clustering 2000 points to 666 centroids: please provide at least 25974 training points\n",
      "WARNING clustering 2000 points to 666 centroids: please provide at least 25974 training points\n",
      "WARNING clustering 2000 points to 666 centroids: please provide at least 25974 training points\n",
      "WARNING clustering 2000 points to 666 centroids: please provide at least 25974 training points\n",
      "WARNING clustering 2000 points to 666 centroids: please provide at least 25974 training points\n",
      "WARNING clustering 2000 points to 666 centroids: please provide at least 25974 training points\n",
      "WARNING clustering 2000 points to 666 centroids: please provide at least 25974 training points\n",
      "WARNING clustering 2000 points to 666 centroids: please provide at least 25974 training points\n",
      "WARNING clustering 2000 points to 666 centroids: please provide at least 25974 training points\n",
      "WARNING clustering 2000 points to 666 centroids: please provide at least 25974 training points\n",
      "WARNING clustering 2000 points to 666 centroids: please provide at least 25974 training points\n",
      "WARNING clustering 2000 points to 666 centroids: please provide at least 25974 training points\n",
      "WARNING clustering 2000 points to 666 centroids: please provide at least 25974 training points\n",
      "WARNING clustering 2000 points to 666 centroids: please provide at least 25974 training points\n",
      "WARNING clustering 2000 points to 666 centroids: please provide at least 25974 training points\n",
      "WARNING clustering 2000 points to 666 centroids: please provide at least 25974 training points\n",
      "WARNING clustering 2000 points to 666 centroids: please provide at least 25974 training points\n",
      "WARNING clustering 2000 points to 666 centroids: please provide at least 25974 training points\n",
      "WARNING clustering 2000 points to 666 centroids: please provide at least 25974 training points\n",
      "WARNING clustering 2000 points to 666 centroids: please provide at least 25974 training points\n",
      "WARNING clustering 2000 points to 666 centroids: please provide at least 25974 training points\n",
      "WARNING clustering 2000 points to 666 centroids: please provide at least 25974 training points\n",
      "WARNING clustering 2000 points to 666 centroids: please provide at least 25974 training points\n",
      "WARNING clustering 2000 points to 666 centroids: please provide at least 25974 training points\n",
      "WARNING clustering 2000 points to 666 centroids: please provide at least 25974 training points\n",
      "WARNING clustering 2000 points to 666 centroids: please provide at least 25974 training points\n",
      "WARNING clustering 2000 points to 666 centroids: please provide at least 25974 training points\n",
      "WARNING clustering 2000 points to 666 centroids: please provide at least 25974 training points\n",
      "WARNING clustering 2000 points to 666 centroids: please provide at least 25974 training points\n",
      "WARNING clustering 2000 points to 666 centroids: please provide at least 25974 training points\n",
      "WARNING clustering 2000 points to 666 centroids: please provide at least 25974 training points\n",
      "WARNING clustering 2000 points to 666 centroids: please provide at least 25974 training points\n",
      "WARNING clustering 2000 points to 666 centroids: please provide at least 25974 training points\n",
      "WARNING clustering 2000 points to 666 centroids: please provide at least 25974 training points\n",
      "WARNING clustering 2000 points to 666 centroids: please provide at least 25974 training points\n",
      "WARNING clustering 2000 points to 666 centroids: please provide at least 25974 training points\n",
      "WARNING clustering 2000 points to 666 centroids: please provide at least 25974 training points\n",
      "WARNING clustering 2000 points to 666 centroids: please provide at least 25974 training points\n",
      "WARNING clustering 2000 points to 666 centroids: please provide at least 25974 training points\n",
      "WARNING clustering 2000 points to 666 centroids: please provide at least 25974 training points\n",
      "WARNING clustering 2000 points to 666 centroids: please provide at least 25974 training points\n",
      "WARNING clustering 2000 points to 666 centroids: please provide at least 25974 training points\n",
      "WARNING clustering 2000 points to 666 centroids: please provide at least 25974 training points\n",
      "WARNING clustering 2000 points to 666 centroids: please provide at least 25974 training points\n",
      "WARNING clustering 2000 points to 666 centroids: please provide at least 25974 training points\n",
      "WARNING clustering 2000 points to 666 centroids: please provide at least 25974 training points\n",
      "WARNING clustering 2000 points to 666 centroids: please provide at least 25974 training points\n",
      "WARNING clustering 2000 points to 666 centroids: please provide at least 25974 training points\n",
      "WARNING clustering 2000 points to 666 centroids: please provide at least 25974 training points\n",
      "WARNING clustering 2000 points to 666 centroids: please provide at least 25974 training points\n",
      "WARNING clustering 2000 points to 666 centroids: please provide at least 25974 training points\n",
      "WARNING clustering 2000 points to 666 centroids: please provide at least 25974 training points\n",
      "WARNING clustering 2000 points to 666 centroids: please provide at least 25974 training points\n",
      "WARNING clustering 2000 points to 666 centroids: please provide at least 25974 training points\n",
      "WARNING clustering 2000 points to 666 centroids: please provide at least 25974 training points\n",
      "WARNING clustering 2000 points to 666 centroids: please provide at least 25974 training points\n",
      "WARNING clustering 2000 points to 666 centroids: please provide at least 25974 training points\n",
      "WARNING clustering 2000 points to 666 centroids: please provide at least 25974 training points\n",
      "WARNING clustering 2000 points to 666 centroids: please provide at least 25974 training points\n",
      "WARNING clustering 2000 points to 666 centroids: please provide at least 25974 training points\n",
      "WARNING clustering 2000 points to 666 centroids: please provide at least 25974 training points\n",
      "1it [00:48, 48.99s/it]WARNING clustering 2000 points to 666 centroids: please provide at least 25974 training points\n",
      "WARNING clustering 2000 points to 666 centroids: please provide at least 25974 training points\n",
      "WARNING clustering 2000 points to 666 centroids: please provide at least 25974 training points\n",
      "WARNING clustering 2000 points to 666 centroids: please provide at least 25974 training points\n",
      "WARNING clustering 2000 points to 666 centroids: please provide at least 25974 training points\n",
      "WARNING clustering 2000 points to 666 centroids: please provide at least 25974 training points\n",
      "WARNING clustering 2000 points to 666 centroids: please provide at least 25974 training points\n",
      "WARNING clustering 2000 points to 666 centroids: please provide at least 25974 training points\n",
      "WARNING clustering 2000 points to 666 centroids: please provide at least 25974 training points\n",
      "WARNING clustering 2000 points to 666 centroids: please provide at least 25974 training points\n",
      "WARNING clustering 2000 points to 666 centroids: please provide at least 25974 training points\n",
      "WARNING clustering 2000 points to 666 centroids: please provide at least 25974 training points\n",
      "WARNING clustering 2000 points to 666 centroids: please provide at least 25974 training points\n",
      "WARNING clustering 2000 points to 666 centroids: please provide at least 25974 training points\n",
      "WARNING clustering 2000 points to 666 centroids: please provide at least 25974 training points\n",
      "WARNING clustering 2000 points to 666 centroids: please provide at least 25974 training points\n",
      "WARNING clustering 2000 points to 666 centroids: please provide at least 25974 training points\n",
      "WARNING clustering 2000 points to 666 centroids: please provide at least 25974 training points\n",
      "WARNING clustering 2000 points to 666 centroids: please provide at least 25974 training points\n",
      "WARNING clustering 2000 points to 666 centroids: please provide at least 25974 training points\n",
      "WARNING clustering 2000 points to 666 centroids: please provide at least 25974 training points\n",
      "WARNING clustering 2000 points to 666 centroids: please provide at least 25974 training points\n",
      "WARNING clustering 2000 points to 666 centroids: please provide at least 25974 training points\n",
      "WARNING clustering 2000 points to 666 centroids: please provide at least 25974 training points\n",
      "WARNING clustering 2000 points to 666 centroids: please provide at least 25974 training points\n",
      "WARNING clustering 2000 points to 666 centroids: please provide at least 25974 training points\n",
      "WARNING clustering 2000 points to 666 centroids: please provide at least 25974 training points\n",
      "WARNING clustering 2000 points to 666 centroids: please provide at least 25974 training points\n",
      "WARNING clustering 2000 points to 666 centroids: please provide at least 25974 training points\n",
      "WARNING clustering 2000 points to 666 centroids: please provide at least 25974 training points\n",
      "WARNING clustering 2000 points to 666 centroids: please provide at least 25974 training points\n",
      "WARNING clustering 2000 points to 666 centroids: please provide at least 25974 training points\n",
      "WARNING clustering 2000 points to 666 centroids: please provide at least 25974 training points\n",
      "WARNING clustering 2000 points to 666 centroids: please provide at least 25974 training points\n",
      "WARNING clustering 2000 points to 666 centroids: please provide at least 25974 training points\n",
      "WARNING clustering 2000 points to 666 centroids: please provide at least 25974 training points\n",
      "WARNING clustering 2000 points to 666 centroids: please provide at least 25974 training points\n",
      "WARNING clustering 2000 points to 666 centroids: please provide at least 25974 training points\n",
      "WARNING clustering 2000 points to 666 centroids: please provide at least 25974 training points\n",
      "WARNING clustering 2000 points to 666 centroids: please provide at least 25974 training points\n",
      "WARNING clustering 2000 points to 666 centroids: please provide at least 25974 training points\n",
      "WARNING clustering 2000 points to 666 centroids: please provide at least 25974 training points\n",
      "WARNING clustering 2000 points to 666 centroids: please provide at least 25974 training points\n",
      "WARNING clustering 2000 points to 666 centroids: please provide at least 25974 training points\n",
      "WARNING clustering 2000 points to 666 centroids: please provide at least 25974 training points\n",
      "WARNING clustering 2000 points to 666 centroids: please provide at least 25974 training points\n",
      "WARNING clustering 2000 points to 666 centroids: please provide at least 25974 training points\n",
      "WARNING clustering 2000 points to 666 centroids: please provide at least 25974 training points\n",
      "WARNING clustering 2000 points to 666 centroids: please provide at least 25974 training points\n",
      "WARNING clustering 2000 points to 666 centroids: please provide at least 25974 training points\n",
      "WARNING clustering 2000 points to 666 centroids: please provide at least 25974 training points\n",
      "WARNING clustering 2000 points to 666 centroids: please provide at least 25974 training points\n",
      "WARNING clustering 2000 points to 666 centroids: please provide at least 25974 training points\n",
      "WARNING clustering 2000 points to 666 centroids: please provide at least 25974 training points\n",
      "WARNING clustering 2000 points to 666 centroids: please provide at least 25974 training points\n",
      "WARNING clustering 2000 points to 666 centroids: please provide at least 25974 training points\n",
      "WARNING clustering 2000 points to 666 centroids: please provide at least 25974 training points\n",
      "WARNING clustering 2000 points to 666 centroids: please provide at least 25974 training points\n",
      "WARNING clustering 2000 points to 666 centroids: please provide at least 25974 training points\n",
      "WARNING clustering 2000 points to 666 centroids: please provide at least 25974 training points\n",
      "WARNING clustering 2000 points to 666 centroids: please provide at least 25974 training points\n",
      "WARNING clustering 2000 points to 666 centroids: please provide at least 25974 training points\n",
      "WARNING clustering 2000 points to 666 centroids: please provide at least 25974 training points\n",
      "WARNING clustering 2000 points to 666 centroids: please provide at least 25974 training points\n",
      "WARNING clustering 2000 points to 666 centroids: please provide at least 25974 training points\n",
      "WARNING clustering 2000 points to 666 centroids: please provide at least 25974 training points\n",
      "WARNING clustering 2000 points to 666 centroids: please provide at least 25974 training points\n",
      "WARNING clustering 2000 points to 666 centroids: please provide at least 25974 training points\n",
      "WARNING clustering 2000 points to 666 centroids: please provide at least 25974 training points\n",
      "WARNING clustering 2000 points to 666 centroids: please provide at least 25974 training points\n",
      "WARNING clustering 2000 points to 666 centroids: please provide at least 25974 training points\n",
      "WARNING clustering 2000 points to 666 centroids: please provide at least 25974 training points\n",
      "WARNING clustering 2000 points to 666 centroids: please provide at least 25974 training points\n",
      "WARNING clustering 2000 points to 666 centroids: please provide at least 25974 training points\n",
      "WARNING clustering 2000 points to 666 centroids: please provide at least 25974 training points\n",
      "WARNING clustering 2000 points to 666 centroids: please provide at least 25974 training points\n",
      "WARNING clustering 2000 points to 666 centroids: please provide at least 25974 training points\n",
      "WARNING clustering 2000 points to 666 centroids: please provide at least 25974 training points\n",
      "WARNING clustering 2000 points to 666 centroids: please provide at least 25974 training points\n",
      "WARNING clustering 2000 points to 666 centroids: please provide at least 25974 training points\n",
      "WARNING clustering 2000 points to 666 centroids: please provide at least 25974 training points\n",
      "WARNING clustering 2000 points to 666 centroids: please provide at least 25974 training points\n",
      "WARNING clustering 2000 points to 666 centroids: please provide at least 25974 training points\n",
      "WARNING clustering 2000 points to 666 centroids: please provide at least 25974 training points\n",
      "WARNING clustering 2000 points to 666 centroids: please provide at least 25974 training points\n",
      "WARNING clustering 2000 points to 666 centroids: please provide at least 25974 training points\n",
      "WARNING clustering 2000 points to 666 centroids: please provide at least 25974 training points\n",
      "WARNING clustering 2000 points to 666 centroids: please provide at least 25974 training points\n",
      "WARNING clustering 2000 points to 666 centroids: please provide at least 25974 training points\n",
      "WARNING clustering 2000 points to 666 centroids: please provide at least 25974 training points\n",
      "WARNING clustering 2000 points to 666 centroids: please provide at least 25974 training points\n",
      "WARNING clustering 2000 points to 666 centroids: please provide at least 25974 training points\n",
      "WARNING clustering 2000 points to 666 centroids: please provide at least 25974 training points\n",
      "WARNING clustering 2000 points to 666 centroids: please provide at least 25974 training points\n",
      "WARNING clustering 2000 points to 666 centroids: please provide at least 25974 training points\n",
      "WARNING clustering 2000 points to 666 centroids: please provide at least 25974 training points\n",
      "WARNING clustering 2000 points to 666 centroids: please provide at least 25974 training points\n",
      "WARNING clustering 2000 points to 666 centroids: please provide at least 25974 training points\n",
      "WARNING clustering 2000 points to 666 centroids: please provide at least 25974 training points\n",
      "WARNING clustering 2000 points to 666 centroids: please provide at least 25974 training points\n",
      "2it [01:38, 49.11s/it]WARNING clustering 2000 points to 666 centroids: please provide at least 25974 training points\n",
      "WARNING clustering 2000 points to 666 centroids: please provide at least 25974 training points\n",
      "WARNING clustering 2000 points to 666 centroids: please provide at least 25974 training points\n",
      "WARNING clustering 2000 points to 666 centroids: please provide at least 25974 training points\n",
      "WARNING clustering 2000 points to 666 centroids: please provide at least 25974 training points\n",
      "WARNING clustering 2000 points to 666 centroids: please provide at least 25974 training points\n",
      "WARNING clustering 2000 points to 666 centroids: please provide at least 25974 training points\n",
      "WARNING clustering 2000 points to 666 centroids: please provide at least 25974 training points\n",
      "WARNING clustering 2000 points to 666 centroids: please provide at least 25974 training points\n",
      "WARNING clustering 2000 points to 666 centroids: please provide at least 25974 training points\n",
      "WARNING clustering 2000 points to 666 centroids: please provide at least 25974 training points\n",
      "WARNING clustering 2000 points to 666 centroids: please provide at least 25974 training points\n",
      "WARNING clustering 2000 points to 666 centroids: please provide at least 25974 training points\n",
      "WARNING clustering 2000 points to 666 centroids: please provide at least 25974 training points\n",
      "WARNING clustering 2000 points to 666 centroids: please provide at least 25974 training points\n",
      "WARNING clustering 2000 points to 666 centroids: please provide at least 25974 training points\n",
      "WARNING clustering 2000 points to 666 centroids: please provide at least 25974 training points\n",
      "WARNING clustering 2000 points to 666 centroids: please provide at least 25974 training points\n",
      "WARNING clustering 2000 points to 666 centroids: please provide at least 25974 training points\n",
      "WARNING clustering 2000 points to 666 centroids: please provide at least 25974 training points\n",
      "WARNING clustering 2000 points to 666 centroids: please provide at least 25974 training points\n",
      "WARNING clustering 2000 points to 666 centroids: please provide at least 25974 training points\n",
      "WARNING clustering 2000 points to 666 centroids: please provide at least 25974 training points\n",
      "WARNING clustering 2000 points to 666 centroids: please provide at least 25974 training points\n",
      "WARNING clustering 2000 points to 666 centroids: please provide at least 25974 training points\n",
      "WARNING clustering 2000 points to 666 centroids: please provide at least 25974 training points\n",
      "WARNING clustering 2000 points to 666 centroids: please provide at least 25974 training points\n",
      "WARNING clustering 2000 points to 666 centroids: please provide at least 25974 training points\n",
      "WARNING clustering 2000 points to 666 centroids: please provide at least 25974 training points\n",
      "WARNING clustering 2000 points to 666 centroids: please provide at least 25974 training points\n",
      "WARNING clustering 2000 points to 666 centroids: please provide at least 25974 training points\n",
      "WARNING clustering 2000 points to 666 centroids: please provide at least 25974 training points\n",
      "WARNING clustering 2000 points to 666 centroids: please provide at least 25974 training points\n",
      "WARNING clustering 2000 points to 666 centroids: please provide at least 25974 training points\n",
      "WARNING clustering 2000 points to 666 centroids: please provide at least 25974 training points\n",
      "WARNING clustering 2000 points to 666 centroids: please provide at least 25974 training points\n",
      "WARNING clustering 2000 points to 666 centroids: please provide at least 25974 training points\n",
      "WARNING clustering 2000 points to 666 centroids: please provide at least 25974 training points\n",
      "WARNING clustering 2000 points to 666 centroids: please provide at least 25974 training points\n",
      "WARNING clustering 2000 points to 666 centroids: please provide at least 25974 training points\n",
      "WARNING clustering 2000 points to 666 centroids: please provide at least 25974 training points\n",
      "WARNING clustering 2000 points to 666 centroids: please provide at least 25974 training points\n",
      "WARNING clustering 2000 points to 666 centroids: please provide at least 25974 training points\n",
      "WARNING clustering 2000 points to 666 centroids: please provide at least 25974 training points\n",
      "WARNING clustering 2000 points to 666 centroids: please provide at least 25974 training points\n",
      "WARNING clustering 2000 points to 666 centroids: please provide at least 25974 training points\n",
      "WARNING clustering 2000 points to 666 centroids: please provide at least 25974 training points\n",
      "WARNING clustering 2000 points to 666 centroids: please provide at least 25974 training points\n",
      "WARNING clustering 2000 points to 666 centroids: please provide at least 25974 training points\n",
      "WARNING clustering 2000 points to 666 centroids: please provide at least 25974 training points\n",
      "WARNING clustering 2000 points to 666 centroids: please provide at least 25974 training points\n",
      "WARNING clustering 2000 points to 666 centroids: please provide at least 25974 training points\n",
      "WARNING clustering 2000 points to 666 centroids: please provide at least 25974 training points\n",
      "WARNING clustering 2000 points to 666 centroids: please provide at least 25974 training points\n",
      "WARNING clustering 2000 points to 666 centroids: please provide at least 25974 training points\n",
      "WARNING clustering 2000 points to 666 centroids: please provide at least 25974 training points\n",
      "WARNING clustering 2000 points to 666 centroids: please provide at least 25974 training points\n",
      "WARNING clustering 2000 points to 666 centroids: please provide at least 25974 training points\n",
      "WARNING clustering 2000 points to 666 centroids: please provide at least 25974 training points\n",
      "WARNING clustering 2000 points to 666 centroids: please provide at least 25974 training points\n",
      "WARNING clustering 2000 points to 666 centroids: please provide at least 25974 training points\n",
      "WARNING clustering 2000 points to 666 centroids: please provide at least 25974 training points\n",
      "WARNING clustering 2000 points to 666 centroids: please provide at least 25974 training points\n",
      "WARNING clustering 2000 points to 666 centroids: please provide at least 25974 training points\n",
      "WARNING clustering 2000 points to 666 centroids: please provide at least 25974 training points\n",
      "WARNING clustering 2000 points to 666 centroids: please provide at least 25974 training points\n",
      "WARNING clustering 2000 points to 666 centroids: please provide at least 25974 training points\n",
      "WARNING clustering 2000 points to 666 centroids: please provide at least 25974 training points\n",
      "WARNING clustering 2000 points to 666 centroids: please provide at least 25974 training points\n",
      "WARNING clustering 2000 points to 666 centroids: please provide at least 25974 training points\n",
      "WARNING clustering 2000 points to 666 centroids: please provide at least 25974 training points\n",
      "WARNING clustering 2000 points to 666 centroids: please provide at least 25974 training points\n",
      "WARNING clustering 2000 points to 666 centroids: please provide at least 25974 training points\n",
      "WARNING clustering 2000 points to 666 centroids: please provide at least 25974 training points\n",
      "WARNING clustering 2000 points to 666 centroids: please provide at least 25974 training points\n",
      "WARNING clustering 2000 points to 666 centroids: please provide at least 25974 training points\n",
      "WARNING clustering 2000 points to 666 centroids: please provide at least 25974 training points\n",
      "WARNING clustering 2000 points to 666 centroids: please provide at least 25974 training points\n",
      "WARNING clustering 2000 points to 666 centroids: please provide at least 25974 training points\n",
      "WARNING clustering 2000 points to 666 centroids: please provide at least 25974 training points\n",
      "WARNING clustering 2000 points to 666 centroids: please provide at least 25974 training points\n",
      "WARNING clustering 2000 points to 666 centroids: please provide at least 25974 training points\n",
      "WARNING clustering 2000 points to 666 centroids: please provide at least 25974 training points\n",
      "WARNING clustering 2000 points to 666 centroids: please provide at least 25974 training points\n",
      "WARNING clustering 2000 points to 666 centroids: please provide at least 25974 training points\n",
      "WARNING clustering 2000 points to 666 centroids: please provide at least 25974 training points\n",
      "WARNING clustering 2000 points to 666 centroids: please provide at least 25974 training points\n",
      "WARNING clustering 2000 points to 666 centroids: please provide at least 25974 training points\n",
      "WARNING clustering 2000 points to 666 centroids: please provide at least 25974 training points\n",
      "WARNING clustering 2000 points to 666 centroids: please provide at least 25974 training points\n",
      "WARNING clustering 2000 points to 666 centroids: please provide at least 25974 training points\n",
      "WARNING clustering 2000 points to 666 centroids: please provide at least 25974 training points\n",
      "WARNING clustering 2000 points to 666 centroids: please provide at least 25974 training points\n",
      "WARNING clustering 2000 points to 666 centroids: please provide at least 25974 training points\n",
      "WARNING clustering 2000 points to 666 centroids: please provide at least 25974 training points\n",
      "WARNING clustering 2000 points to 666 centroids: please provide at least 25974 training points\n",
      "WARNING clustering 2000 points to 666 centroids: please provide at least 25974 training points\n",
      "WARNING clustering 2000 points to 666 centroids: please provide at least 25974 training points\n",
      "WARNING clustering 2000 points to 666 centroids: please provide at least 25974 training points\n",
      "WARNING clustering 2000 points to 666 centroids: please provide at least 25974 training points\n",
      "3it [02:27, 49.13s/it]WARNING clustering 2000 points to 666 centroids: please provide at least 25974 training points\n",
      "WARNING clustering 2000 points to 666 centroids: please provide at least 25974 training points\n",
      "WARNING clustering 2000 points to 666 centroids: please provide at least 25974 training points\n",
      "WARNING clustering 2000 points to 666 centroids: please provide at least 25974 training points\n",
      "WARNING clustering 2000 points to 666 centroids: please provide at least 25974 training points\n",
      "WARNING clustering 2000 points to 666 centroids: please provide at least 25974 training points\n",
      "WARNING clustering 2000 points to 666 centroids: please provide at least 25974 training points\n",
      "WARNING clustering 2000 points to 666 centroids: please provide at least 25974 training points\n",
      "WARNING clustering 2000 points to 666 centroids: please provide at least 25974 training points\n",
      "WARNING clustering 2000 points to 666 centroids: please provide at least 25974 training points\n",
      "WARNING clustering 2000 points to 666 centroids: please provide at least 25974 training points\n",
      "WARNING clustering 2000 points to 666 centroids: please provide at least 25974 training points\n",
      "WARNING clustering 2000 points to 666 centroids: please provide at least 25974 training points\n",
      "WARNING clustering 2000 points to 666 centroids: please provide at least 25974 training points\n",
      "WARNING clustering 2000 points to 666 centroids: please provide at least 25974 training points\n",
      "WARNING clustering 2000 points to 666 centroids: please provide at least 25974 training points\n",
      "WARNING clustering 2000 points to 666 centroids: please provide at least 25974 training points\n",
      "WARNING clustering 2000 points to 666 centroids: please provide at least 25974 training points\n",
      "WARNING clustering 2000 points to 666 centroids: please provide at least 25974 training points\n",
      "WARNING clustering 2000 points to 666 centroids: please provide at least 25974 training points\n",
      "WARNING clustering 2000 points to 666 centroids: please provide at least 25974 training points\n",
      "WARNING clustering 2000 points to 666 centroids: please provide at least 25974 training points\n",
      "WARNING clustering 2000 points to 666 centroids: please provide at least 25974 training points\n",
      "WARNING clustering 2000 points to 666 centroids: please provide at least 25974 training points\n",
      "WARNING clustering 2000 points to 666 centroids: please provide at least 25974 training points\n",
      "WARNING clustering 2000 points to 666 centroids: please provide at least 25974 training points\n",
      "WARNING clustering 2000 points to 666 centroids: please provide at least 25974 training points\n",
      "WARNING clustering 2000 points to 666 centroids: please provide at least 25974 training points\n",
      "WARNING clustering 2000 points to 666 centroids: please provide at least 25974 training points\n",
      "WARNING clustering 2000 points to 666 centroids: please provide at least 25974 training points\n",
      "WARNING clustering 2000 points to 666 centroids: please provide at least 25974 training points\n",
      "WARNING clustering 2000 points to 666 centroids: please provide at least 25974 training points\n",
      "WARNING clustering 2000 points to 666 centroids: please provide at least 25974 training points\n",
      "WARNING clustering 2000 points to 666 centroids: please provide at least 25974 training points\n",
      "WARNING clustering 2000 points to 666 centroids: please provide at least 25974 training points\n",
      "WARNING clustering 2000 points to 666 centroids: please provide at least 25974 training points\n",
      "WARNING clustering 2000 points to 666 centroids: please provide at least 25974 training points\n",
      "WARNING clustering 2000 points to 666 centroids: please provide at least 25974 training points\n",
      "WARNING clustering 2000 points to 666 centroids: please provide at least 25974 training points\n",
      "WARNING clustering 2000 points to 666 centroids: please provide at least 25974 training points\n",
      "WARNING clustering 2000 points to 666 centroids: please provide at least 25974 training points\n",
      "WARNING clustering 2000 points to 666 centroids: please provide at least 25974 training points\n",
      "WARNING clustering 2000 points to 666 centroids: please provide at least 25974 training points\n",
      "WARNING clustering 2000 points to 666 centroids: please provide at least 25974 training points\n",
      "WARNING clustering 2000 points to 666 centroids: please provide at least 25974 training points\n",
      "WARNING clustering 2000 points to 666 centroids: please provide at least 25974 training points\n",
      "WARNING clustering 2000 points to 666 centroids: please provide at least 25974 training points\n",
      "WARNING clustering 2000 points to 666 centroids: please provide at least 25974 training points\n",
      "WARNING clustering 2000 points to 666 centroids: please provide at least 25974 training points\n",
      "WARNING clustering 2000 points to 666 centroids: please provide at least 25974 training points\n",
      "WARNING clustering 2000 points to 666 centroids: please provide at least 25974 training points\n",
      "WARNING clustering 2000 points to 666 centroids: please provide at least 25974 training points\n",
      "WARNING clustering 2000 points to 666 centroids: please provide at least 25974 training points\n",
      "WARNING clustering 2000 points to 666 centroids: please provide at least 25974 training points\n",
      "WARNING clustering 2000 points to 666 centroids: please provide at least 25974 training points\n",
      "WARNING clustering 2000 points to 666 centroids: please provide at least 25974 training points\n",
      "WARNING clustering 2000 points to 666 centroids: please provide at least 25974 training points\n",
      "WARNING clustering 2000 points to 666 centroids: please provide at least 25974 training points\n",
      "WARNING clustering 2000 points to 666 centroids: please provide at least 25974 training points\n",
      "WARNING clustering 2000 points to 666 centroids: please provide at least 25974 training points\n",
      "WARNING clustering 2000 points to 666 centroids: please provide at least 25974 training points\n",
      "WARNING clustering 2000 points to 666 centroids: please provide at least 25974 training points\n",
      "WARNING clustering 2000 points to 666 centroids: please provide at least 25974 training points\n",
      "WARNING clustering 2000 points to 666 centroids: please provide at least 25974 training points\n",
      "WARNING clustering 2000 points to 666 centroids: please provide at least 25974 training points\n",
      "WARNING clustering 2000 points to 666 centroids: please provide at least 25974 training points\n",
      "WARNING clustering 2000 points to 666 centroids: please provide at least 25974 training points\n",
      "WARNING clustering 2000 points to 666 centroids: please provide at least 25974 training points\n",
      "WARNING clustering 2000 points to 666 centroids: please provide at least 25974 training points\n",
      "WARNING clustering 2000 points to 666 centroids: please provide at least 25974 training points\n",
      "WARNING clustering 2000 points to 666 centroids: please provide at least 25974 training points\n",
      "WARNING clustering 2000 points to 666 centroids: please provide at least 25974 training points\n",
      "WARNING clustering 2000 points to 666 centroids: please provide at least 25974 training points\n",
      "WARNING clustering 2000 points to 666 centroids: please provide at least 25974 training points\n",
      "WARNING clustering 2000 points to 666 centroids: please provide at least 25974 training points\n",
      "WARNING clustering 2000 points to 666 centroids: please provide at least 25974 training points\n",
      "WARNING clustering 2000 points to 666 centroids: please provide at least 25974 training points\n",
      "WARNING clustering 2000 points to 666 centroids: please provide at least 25974 training points\n",
      "WARNING clustering 2000 points to 666 centroids: please provide at least 25974 training points\n",
      "WARNING clustering 2000 points to 666 centroids: please provide at least 25974 training points\n",
      "WARNING clustering 2000 points to 666 centroids: please provide at least 25974 training points\n",
      "WARNING clustering 2000 points to 666 centroids: please provide at least 25974 training points\n",
      "WARNING clustering 2000 points to 666 centroids: please provide at least 25974 training points\n",
      "WARNING clustering 2000 points to 666 centroids: please provide at least 25974 training points\n",
      "WARNING clustering 2000 points to 666 centroids: please provide at least 25974 training points\n",
      "WARNING clustering 2000 points to 666 centroids: please provide at least 25974 training points\n",
      "WARNING clustering 2000 points to 666 centroids: please provide at least 25974 training points\n",
      "WARNING clustering 2000 points to 666 centroids: please provide at least 25974 training points\n",
      "WARNING clustering 2000 points to 666 centroids: please provide at least 25974 training points\n",
      "WARNING clustering 2000 points to 666 centroids: please provide at least 25974 training points\n",
      "WARNING clustering 2000 points to 666 centroids: please provide at least 25974 training points\n",
      "WARNING clustering 2000 points to 666 centroids: please provide at least 25974 training points\n",
      "WARNING clustering 2000 points to 666 centroids: please provide at least 25974 training points\n",
      "WARNING clustering 2000 points to 666 centroids: please provide at least 25974 training points\n",
      "WARNING clustering 2000 points to 666 centroids: please provide at least 25974 training points\n",
      "WARNING clustering 2000 points to 666 centroids: please provide at least 25974 training points\n",
      "WARNING clustering 2000 points to 666 centroids: please provide at least 25974 training points\n",
      "WARNING clustering 2000 points to 666 centroids: please provide at least 25974 training points\n",
      "WARNING clustering 2000 points to 666 centroids: please provide at least 25974 training points\n",
      "WARNING clustering 2000 points to 666 centroids: please provide at least 25974 training points\n",
      "4it [03:16, 49.15s/it]WARNING clustering 2000 points to 666 centroids: please provide at least 25974 training points\n",
      "WARNING clustering 2000 points to 666 centroids: please provide at least 25974 training points\n",
      "WARNING clustering 2000 points to 666 centroids: please provide at least 25974 training points\n",
      "WARNING clustering 2000 points to 666 centroids: please provide at least 25974 training points\n",
      "WARNING clustering 2000 points to 666 centroids: please provide at least 25974 training points\n",
      "WARNING clustering 2000 points to 666 centroids: please provide at least 25974 training points\n",
      "WARNING clustering 2000 points to 666 centroids: please provide at least 25974 training points\n",
      "WARNING clustering 2000 points to 666 centroids: please provide at least 25974 training points\n",
      "WARNING clustering 2000 points to 666 centroids: please provide at least 25974 training points\n",
      "WARNING clustering 2000 points to 666 centroids: please provide at least 25974 training points\n",
      "WARNING clustering 2000 points to 666 centroids: please provide at least 25974 training points\n",
      "WARNING clustering 2000 points to 666 centroids: please provide at least 25974 training points\n",
      "WARNING clustering 2000 points to 666 centroids: please provide at least 25974 training points\n",
      "WARNING clustering 2000 points to 666 centroids: please provide at least 25974 training points\n",
      "WARNING clustering 2000 points to 666 centroids: please provide at least 25974 training points\n",
      "WARNING clustering 2000 points to 666 centroids: please provide at least 25974 training points\n",
      "WARNING clustering 2000 points to 666 centroids: please provide at least 25974 training points\n",
      "WARNING clustering 2000 points to 666 centroids: please provide at least 25974 training points\n",
      "WARNING clustering 2000 points to 666 centroids: please provide at least 25974 training points\n",
      "WARNING clustering 2000 points to 666 centroids: please provide at least 25974 training points\n",
      "WARNING clustering 2000 points to 666 centroids: please provide at least 25974 training points\n",
      "WARNING clustering 2000 points to 666 centroids: please provide at least 25974 training points\n",
      "WARNING clustering 2000 points to 666 centroids: please provide at least 25974 training points\n",
      "WARNING clustering 2000 points to 666 centroids: please provide at least 25974 training points\n",
      "WARNING clustering 2000 points to 666 centroids: please provide at least 25974 training points\n",
      "WARNING clustering 2000 points to 666 centroids: please provide at least 25974 training points\n",
      "WARNING clustering 2000 points to 666 centroids: please provide at least 25974 training points\n",
      "WARNING clustering 2000 points to 666 centroids: please provide at least 25974 training points\n",
      "WARNING clustering 2000 points to 666 centroids: please provide at least 25974 training points\n",
      "WARNING clustering 2000 points to 666 centroids: please provide at least 25974 training points\n",
      "WARNING clustering 2000 points to 666 centroids: please provide at least 25974 training points\n",
      "WARNING clustering 2000 points to 666 centroids: please provide at least 25974 training points\n",
      "WARNING clustering 2000 points to 666 centroids: please provide at least 25974 training points\n",
      "WARNING clustering 2000 points to 666 centroids: please provide at least 25974 training points\n",
      "WARNING clustering 2000 points to 666 centroids: please provide at least 25974 training points\n",
      "WARNING clustering 2000 points to 666 centroids: please provide at least 25974 training points\n",
      "WARNING clustering 2000 points to 666 centroids: please provide at least 25974 training points\n",
      "WARNING clustering 2000 points to 666 centroids: please provide at least 25974 training points\n",
      "WARNING clustering 2000 points to 666 centroids: please provide at least 25974 training points\n",
      "WARNING clustering 2000 points to 666 centroids: please provide at least 25974 training points\n",
      "WARNING clustering 2000 points to 666 centroids: please provide at least 25974 training points\n",
      "WARNING clustering 2000 points to 666 centroids: please provide at least 25974 training points\n",
      "WARNING clustering 2000 points to 666 centroids: please provide at least 25974 training points\n",
      "WARNING clustering 2000 points to 666 centroids: please provide at least 25974 training points\n",
      "WARNING clustering 2000 points to 666 centroids: please provide at least 25974 training points\n",
      "WARNING clustering 2000 points to 666 centroids: please provide at least 25974 training points\n",
      "WARNING clustering 2000 points to 666 centroids: please provide at least 25974 training points\n",
      "WARNING clustering 2000 points to 666 centroids: please provide at least 25974 training points\n",
      "WARNING clustering 2000 points to 666 centroids: please provide at least 25974 training points\n",
      "WARNING clustering 2000 points to 666 centroids: please provide at least 25974 training points\n",
      "WARNING clustering 2000 points to 666 centroids: please provide at least 25974 training points\n",
      "WARNING clustering 2000 points to 666 centroids: please provide at least 25974 training points\n",
      "WARNING clustering 2000 points to 666 centroids: please provide at least 25974 training points\n",
      "WARNING clustering 2000 points to 666 centroids: please provide at least 25974 training points\n",
      "WARNING clustering 2000 points to 666 centroids: please provide at least 25974 training points\n",
      "WARNING clustering 2000 points to 666 centroids: please provide at least 25974 training points\n",
      "WARNING clustering 2000 points to 666 centroids: please provide at least 25974 training points\n",
      "WARNING clustering 2000 points to 666 centroids: please provide at least 25974 training points\n",
      "WARNING clustering 2000 points to 666 centroids: please provide at least 25974 training points\n",
      "WARNING clustering 2000 points to 666 centroids: please provide at least 25974 training points\n",
      "WARNING clustering 2000 points to 666 centroids: please provide at least 25974 training points\n",
      "WARNING clustering 2000 points to 666 centroids: please provide at least 25974 training points\n",
      "WARNING clustering 2000 points to 666 centroids: please provide at least 25974 training points\n",
      "WARNING clustering 2000 points to 666 centroids: please provide at least 25974 training points\n",
      "WARNING clustering 2000 points to 666 centroids: please provide at least 25974 training points\n",
      "WARNING clustering 2000 points to 666 centroids: please provide at least 25974 training points\n",
      "WARNING clustering 2000 points to 666 centroids: please provide at least 25974 training points\n",
      "WARNING clustering 2000 points to 666 centroids: please provide at least 25974 training points\n",
      "WARNING clustering 2000 points to 666 centroids: please provide at least 25974 training points\n",
      "WARNING clustering 2000 points to 666 centroids: please provide at least 25974 training points\n",
      "WARNING clustering 2000 points to 666 centroids: please provide at least 25974 training points\n",
      "WARNING clustering 2000 points to 666 centroids: please provide at least 25974 training points\n",
      "WARNING clustering 2000 points to 666 centroids: please provide at least 25974 training points\n",
      "WARNING clustering 2000 points to 666 centroids: please provide at least 25974 training points\n",
      "WARNING clustering 2000 points to 666 centroids: please provide at least 25974 training points\n",
      "WARNING clustering 2000 points to 666 centroids: please provide at least 25974 training points\n",
      "WARNING clustering 2000 points to 666 centroids: please provide at least 25974 training points\n",
      "WARNING clustering 2000 points to 666 centroids: please provide at least 25974 training points\n",
      "WARNING clustering 2000 points to 666 centroids: please provide at least 25974 training points\n",
      "WARNING clustering 2000 points to 666 centroids: please provide at least 25974 training points\n",
      "WARNING clustering 2000 points to 666 centroids: please provide at least 25974 training points\n",
      "WARNING clustering 2000 points to 666 centroids: please provide at least 25974 training points\n",
      "WARNING clustering 2000 points to 666 centroids: please provide at least 25974 training points\n",
      "WARNING clustering 2000 points to 666 centroids: please provide at least 25974 training points\n",
      "WARNING clustering 2000 points to 666 centroids: please provide at least 25974 training points\n",
      "WARNING clustering 2000 points to 666 centroids: please provide at least 25974 training points\n",
      "WARNING clustering 2000 points to 666 centroids: please provide at least 25974 training points\n",
      "WARNING clustering 2000 points to 666 centroids: please provide at least 25974 training points\n",
      "WARNING clustering 2000 points to 666 centroids: please provide at least 25974 training points\n",
      "WARNING clustering 2000 points to 666 centroids: please provide at least 25974 training points\n",
      "WARNING clustering 2000 points to 666 centroids: please provide at least 25974 training points\n",
      "WARNING clustering 2000 points to 666 centroids: please provide at least 25974 training points\n",
      "WARNING clustering 2000 points to 666 centroids: please provide at least 25974 training points\n",
      "WARNING clustering 2000 points to 666 centroids: please provide at least 25974 training points\n",
      "WARNING clustering 2000 points to 666 centroids: please provide at least 25974 training points\n",
      "WARNING clustering 2000 points to 666 centroids: please provide at least 25974 training points\n",
      "WARNING clustering 2000 points to 666 centroids: please provide at least 25974 training points\n",
      "WARNING clustering 2000 points to 666 centroids: please provide at least 25974 training points\n",
      "WARNING clustering 2000 points to 666 centroids: please provide at least 25974 training points\n",
      "WARNING clustering 2000 points to 666 centroids: please provide at least 25974 training points\n",
      "5it [04:05, 49.10s/it]\n"
     ]
    },
    {
     "name": "stdout",
     "output_type": "stream",
     "text": [
      "search model 소요 시간: 245.5245초\n",
      "(5, 1)\n"
     ]
    }
   ],
   "source": [
    "# %%time \n",
    "x_opt = search_model.main(args,ret_dict['scalers'])"
   ]
  },
  {
   "cell_type": "code",
   "execution_count": 24,
   "metadata": {},
   "outputs": [
    {
     "data": {
      "text/html": [
       "<div>\n",
       "<style scoped>\n",
       "    .dataframe tbody tr th:only-of-type {\n",
       "        vertical-align: middle;\n",
       "    }\n",
       "\n",
       "    .dataframe tbody tr th {\n",
       "        vertical-align: top;\n",
       "    }\n",
       "\n",
       "    .dataframe thead th {\n",
       "        text-align: right;\n",
       "    }\n",
       "</style>\n",
       "<table border=\"1\" class=\"dataframe\">\n",
       "  <thead>\n",
       "    <tr style=\"text-align: right;\">\n",
       "      <th></th>\n",
       "      <th>pred_x</th>\n",
       "      <th>test_x</th>\n",
       "      <th>test_y</th>\n",
       "      <th>pred_y</th>\n",
       "    </tr>\n",
       "  </thead>\n",
       "  <tbody>\n",
       "    <tr>\n",
       "      <th>0</th>\n",
       "      <td>[102.0, 87.90987942092724, 200.1, 121.8, 26.13...</td>\n",
       "      <td>[259.9, 100.6, 78.39999999999999, 170.6, 10.39...</td>\n",
       "      <td>[[49.77]]</td>\n",
       "      <td>40.344117</td>\n",
       "    </tr>\n",
       "    <tr>\n",
       "      <th>1</th>\n",
       "      <td>[102.0, 155.04458973504453, 200.1, 121.8, 5.42...</td>\n",
       "      <td>[260.0, 101.0, 78.0, 171.0, 9.999999999999998,...</td>\n",
       "      <td>[[49.77]]</td>\n",
       "      <td>39.571919</td>\n",
       "    </tr>\n",
       "    <tr>\n",
       "      <th>2</th>\n",
       "      <td>[102.0, 1.1894936055643732, 85.55890038723894,...</td>\n",
       "      <td>[266.2, 112.29999999999998, 87.49999999999999,...</td>\n",
       "      <td>[[39.42]]</td>\n",
       "      <td>40.466607</td>\n",
       "    </tr>\n",
       "    <tr>\n",
       "      <th>3</th>\n",
       "      <td>[102.0, 12.217176741543094, 127.02090759515394...</td>\n",
       "      <td>[266.0, 112.00000000000001, 87.0, 178.0, 9.999...</td>\n",
       "      <td>[[39.42]]</td>\n",
       "      <td>40.346533</td>\n",
       "    </tr>\n",
       "    <tr>\n",
       "      <th>4</th>\n",
       "      <td>[102.0, 0.0, 25.74569550346461, 121.8, 6.86871...</td>\n",
       "      <td>[276.0, 116.0, 90.0, 180.0, 9.0, 870.0, 768.0,...</td>\n",
       "      <td>[[44.28]]</td>\n",
       "      <td>40.259116</td>\n",
       "    </tr>\n",
       "  </tbody>\n",
       "</table>\n",
       "</div>"
      ],
      "text/plain": [
       "                                              pred_x  \\\n",
       "0  [102.0, 87.90987942092724, 200.1, 121.8, 26.13...   \n",
       "1  [102.0, 155.04458973504453, 200.1, 121.8, 5.42...   \n",
       "2  [102.0, 1.1894936055643732, 85.55890038723894,...   \n",
       "3  [102.0, 12.217176741543094, 127.02090759515394...   \n",
       "4  [102.0, 0.0, 25.74569550346461, 121.8, 6.86871...   \n",
       "\n",
       "                                              test_x     test_y     pred_y  \n",
       "0  [259.9, 100.6, 78.39999999999999, 170.6, 10.39...  [[49.77]]  40.344117  \n",
       "1  [260.0, 101.0, 78.0, 171.0, 9.999999999999998,...  [[49.77]]  39.571919  \n",
       "2  [266.2, 112.29999999999998, 87.49999999999999,...  [[39.42]]  40.466607  \n",
       "3  [266.0, 112.00000000000001, 87.0, 178.0, 9.999...  [[39.42]]  40.346533  \n",
       "4  [276.0, 116.0, 90.0, 180.0, 9.0, 870.0, 768.0,...  [[44.28]]  40.259116  "
      ]
     },
     "execution_count": 24,
     "metadata": {},
     "output_type": "execute_result"
    }
   ],
   "source": [
    "x_opt"
   ]
  },
  {
   "cell_type": "code",
   "execution_count": 25,
   "metadata": {},
   "outputs": [
    {
     "data": {
      "text/plain": [
       "[102.0,\n",
       " 87.90987942092724,\n",
       " 200.1,\n",
       " 121.8,\n",
       " 26.13393386070694,\n",
       " 1068.3293553995027,\n",
       " 657.2469534588934,\n",
       " 214.80524202781527]"
      ]
     },
     "execution_count": 25,
     "metadata": {},
     "output_type": "execute_result"
    }
   ],
   "source": [
    "x_opt.iloc[0]['pred_x']"
   ]
  },
  {
   "cell_type": "code",
   "execution_count": 26,
   "metadata": {},
   "outputs": [
    {
     "data": {
      "text/plain": [
       "[259.9,\n",
       " 100.6,\n",
       " 78.39999999999999,\n",
       " 170.6,\n",
       " 10.399999999999999,\n",
       " 935.7,\n",
       " 762.9,\n",
       " 28.0]"
      ]
     },
     "execution_count": 26,
     "metadata": {},
     "output_type": "execute_result"
    }
   ],
   "source": [
    "x_opt.iloc[0]['test_x']"
   ]
  },
  {
   "cell_type": "code",
   "execution_count": 27,
   "metadata": {},
   "outputs": [
    {
     "data": {
      "text/plain": [
       "pred_x    [102.0, 155.04458973504453, 200.1, 121.8, 5.42...\n",
       "test_x    [260.0, 101.0, 78.0, 171.0, 9.999999999999998,...\n",
       "test_y                                            [[49.77]]\n",
       "pred_y                                            39.571919\n",
       "Name: 1, dtype: object"
      ]
     },
     "execution_count": 27,
     "metadata": {},
     "output_type": "execute_result"
    }
   ],
   "source": [
    "x_opt.iloc[1]"
   ]
  },
  {
   "cell_type": "code",
   "execution_count": 28,
   "metadata": {},
   "outputs": [
    {
     "data": {
      "text/html": [
       "<div>\n",
       "<style scoped>\n",
       "    .dataframe tbody tr th:only-of-type {\n",
       "        vertical-align: middle;\n",
       "    }\n",
       "\n",
       "    .dataframe tbody tr th {\n",
       "        vertical-align: top;\n",
       "    }\n",
       "\n",
       "    .dataframe thead th {\n",
       "        text-align: right;\n",
       "    }\n",
       "</style>\n",
       "<table border=\"1\" class=\"dataframe\">\n",
       "  <thead>\n",
       "    <tr style=\"text-align: right;\">\n",
       "      <th></th>\n",
       "      <th>pred_x</th>\n",
       "      <th>test_x</th>\n",
       "      <th>test_y</th>\n",
       "      <th>pred_y</th>\n",
       "    </tr>\n",
       "  </thead>\n",
       "  <tbody>\n",
       "    <tr>\n",
       "      <th>0</th>\n",
       "      <td>[102.0, 87.90987942092724, 200.1, 121.8, 26.13...</td>\n",
       "      <td>[259.9, 100.6, 78.39999999999999, 170.6, 10.39...</td>\n",
       "      <td>[[49.77]]</td>\n",
       "      <td>40.344117</td>\n",
       "    </tr>\n",
       "    <tr>\n",
       "      <th>1</th>\n",
       "      <td>[102.0, 155.04458973504453, 200.1, 121.8, 5.42...</td>\n",
       "      <td>[260.0, 101.0, 78.0, 171.0, 9.999999999999998,...</td>\n",
       "      <td>[[49.77]]</td>\n",
       "      <td>39.571919</td>\n",
       "    </tr>\n",
       "    <tr>\n",
       "      <th>2</th>\n",
       "      <td>[102.0, 1.1894936055643732, 85.55890038723894,...</td>\n",
       "      <td>[266.2, 112.29999999999998, 87.49999999999999,...</td>\n",
       "      <td>[[39.42]]</td>\n",
       "      <td>40.466607</td>\n",
       "    </tr>\n",
       "    <tr>\n",
       "      <th>3</th>\n",
       "      <td>[102.0, 12.217176741543094, 127.02090759515394...</td>\n",
       "      <td>[266.0, 112.00000000000001, 87.0, 178.0, 9.999...</td>\n",
       "      <td>[[39.42]]</td>\n",
       "      <td>40.346533</td>\n",
       "    </tr>\n",
       "    <tr>\n",
       "      <th>4</th>\n",
       "      <td>[102.0, 0.0, 25.74569550346461, 121.8, 6.86871...</td>\n",
       "      <td>[276.0, 116.0, 90.0, 180.0, 9.0, 870.0, 768.0,...</td>\n",
       "      <td>[[44.28]]</td>\n",
       "      <td>40.259116</td>\n",
       "    </tr>\n",
       "  </tbody>\n",
       "</table>\n",
       "</div>"
      ],
      "text/plain": [
       "                                              pred_x  \\\n",
       "0  [102.0, 87.90987942092724, 200.1, 121.8, 26.13...   \n",
       "1  [102.0, 155.04458973504453, 200.1, 121.8, 5.42...   \n",
       "2  [102.0, 1.1894936055643732, 85.55890038723894,...   \n",
       "3  [102.0, 12.217176741543094, 127.02090759515394...   \n",
       "4  [102.0, 0.0, 25.74569550346461, 121.8, 6.86871...   \n",
       "\n",
       "                                              test_x     test_y     pred_y  \n",
       "0  [259.9, 100.6, 78.39999999999999, 170.6, 10.39...  [[49.77]]  40.344117  \n",
       "1  [260.0, 101.0, 78.0, 171.0, 9.999999999999998,...  [[49.77]]  39.571919  \n",
       "2  [266.2, 112.29999999999998, 87.49999999999999,...  [[39.42]]  40.466607  \n",
       "3  [266.0, 112.00000000000001, 87.0, 178.0, 9.999...  [[39.42]]  40.346533  \n",
       "4  [276.0, 116.0, 90.0, 180.0, 9.0, 870.0, 768.0,...  [[44.28]]  40.259116  "
      ]
     },
     "execution_count": 28,
     "metadata": {},
     "output_type": "execute_result"
    }
   ],
   "source": [
    "x_opt"
   ]
  },
  {
   "cell_type": "code",
   "execution_count": null,
   "metadata": {},
   "outputs": [],
   "source": []
  }
 ],
 "metadata": {
  "kernelspec": {
   "display_name": "base",
   "language": "python",
   "name": "python3"
  },
  "language_info": {
   "codemirror_mode": {
    "name": "ipython",
    "version": 3
   },
   "file_extension": ".py",
   "mimetype": "text/x-python",
   "name": "python",
   "nbconvert_exporter": "python",
   "pygments_lexer": "ipython3",
   "version": "3.10.13"
  }
 },
 "nbformat": 4,
 "nbformat_minor": 2
}

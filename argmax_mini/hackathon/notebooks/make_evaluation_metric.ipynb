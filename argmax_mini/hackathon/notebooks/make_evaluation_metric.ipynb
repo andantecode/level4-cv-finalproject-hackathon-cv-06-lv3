{
 "cells": [
  {
   "cell_type": "markdown",
   "metadata": {},
   "source": [
    "## evaluation metric 만들기 : seach model에서 여러 예측 값을 뽑고, test set x와 가장 유사한 값과의 비교"
   ]
  },
  {
   "cell_type": "code",
   "execution_count": 6,
   "metadata": {},
   "outputs": [],
   "source": [
    "import src.datasets as datasets\n",
    "import src.surrogate as surrogate\n",
    "import src.search as search"
   ]
  },
  {
   "cell_type": "code",
   "execution_count": 7,
   "metadata": {},
   "outputs": [
    {
     "name": "stderr",
     "output_type": "stream",
     "text": [
      "/opt/conda/lib/python3.10/site-packages/lightgbm/basic.py:357: UserWarning: Converting column-vector to 1d array\n",
      "  _log_warning(\"Converting column-vector to 1d array\")\n"
     ]
    },
    {
     "name": "stdout",
     "output_type": "stream",
     "text": [
      "Training until validation scores don't improve for 50 rounds\n",
      "[100]\ttrain's rmse: 0.0448095\tvalid's rmse: 0.0588017\n",
      "[200]\ttrain's rmse: 0.0342117\tvalid's rmse: 0.0521947\n",
      "[300]\ttrain's rmse: 0.0290689\tvalid's rmse: 0.050235\n",
      "Early stopping, best iteration is:\n",
      "[305]\ttrain's rmse: 0.0288801\tvalid's rmse: 0.0501455\n"
     ]
    }
   ],
   "source": [
    "load_data_func = getattr(datasets, f'cement_data')\n",
    "X_train, X_test, y_train, y_test = load_data_func('./data/concrete_processed.csv')\n",
    "\n",
    "load_data_loader_func = getattr(datasets, f'lightgbm_load_data')\n",
    "train_loader, val_loader = load_data_loader_func(X_train, X_test, y_train, y_test)\n",
    "\n",
    "train_func = getattr(surrogate, f'lightgbm_train')\n",
    "pred_func = getattr(surrogate, f'lightgbm_predict')\n",
    "model = train_func(train_loader, val_loader)\n",
    "\n"
   ]
  },
  {
   "cell_type": "code",
   "execution_count": 8,
   "metadata": {},
   "outputs": [],
   "source": [
    "import random\n",
    "import torch\n",
    "from tqdm import tqdm\n",
    "import numpy as np\n",
    "from deap import base, creator, tools\n",
    "\n",
    "def adaptive_niche_size(gen, max_gen, initial_sigma, min_sigma, decay_constant=5.0):\n",
    "    \"\"\"\n",
    "    진화 단계에 따라 적응적으로 니치 크기를 조정하는 함수\n",
    "    - gen: 현재 세대\n",
    "    - max_gen: 최대 세대 수\n",
    "    - initial_sigma: 초기 니치 크기\n",
    "    - min_sigma: 최소 니치 크기\n",
    "    - decay_constant: 감소율 상수\n",
    "    \"\"\"\n",
    "    sigma = initial_sigma * np.exp(-decay_constant * gen / max_gen) # gen/max_gen : 현재 세대 비율(정규화한 값)\n",
    "    return max(sigma, min_sigma)  # 최소 니치 크기 보장\n",
    "\n",
    "def fitness_sharing(population, sigma, alpha):\n",
    "    \"\"\"\n",
    "    적응적 니치 크기를 적용한 적합도 공유 함수\n",
    "    목적 : 개체들이 특정 니치에 너무 몰리지 않도록 적합도를 조정\n",
    "    - population: 현재 개체군\n",
    "    - sigma: 니치 크기\n",
    "    - alpha: 거리의 중요도 조정 파라미터\n",
    "    \"\"\"\n",
    "    # 개체군을 numpy 배열로 변환\n",
    "    population_array = np.array([np.array(ind).squeeze() for ind in population])\n",
    "    # print(population_array.shape) # (50, 8)\n",
    "\n",
    "    # 개체 간 거리 계산 (모든 개체 쌍의 거리)\n",
    "    distances = np.linalg.norm(\n",
    "        population_array[:, np.newaxis, :] - population_array[np.newaxis, :, :], axis=2\n",
    "    )\n",
    "    # print(distances.shape) # (50, 50)\n",
    "\n",
    "    # 공유 함수 값 계산 : dist < sigma일 때만 적합도를 공유하도록 설계\n",
    "    sh_values = np.where(\n",
    "        distances < sigma, 1 - (distances / sigma) ** alpha, 0\n",
    "    )\n",
    "    # print(sh_values.shape) # (50, 50)\n",
    "\n",
    "    # 다른 개체들과 적합도를 나누는 정도를 나타냄\n",
    "    sharing_factors = np.sum(sh_values, axis=1)  # 각 개체별 sharing factor 계산\n",
    "    # print(sharing_factors.shape) # (50,)\n",
    "\n",
    "    # 적합도 조정\n",
    "    for ind, sharing_factor in zip(population, sharing_factors):\n",
    "        if sharing_factor > 0.0:  # 근처에 다른 개체가 있는 경우\n",
    "            ind.fitness.values = (ind.fitness.values[0] / sharing_factor,)\n",
    "\n",
    "    # for ind in population:\n",
    "    #     # ind와 다른 모든 개체 사이의 거리 계산(자기 자신 포함)\n",
    "    #     distances = [\n",
    "    #         np.linalg.norm(np.array(ind) - np.array(other)) for other in population\n",
    "    #     ]\n",
    "    #     # print(len(distances)) # 50\n",
    "\n",
    "    #     # 공유 함수 값 계산 : dist < sigma일 때만 적합도를 공유하도록 설계\n",
    "    #     sh_values = [\n",
    "    #         1 - (dist / sigma) ** alpha if dist < sigma else 0\n",
    "    #         for dist in distances\n",
    "    #     ] # distances를 기반으로 적합도 공유 비율을 나타내는 리스트\n",
    "\n",
    "    #     # 다른 개체들과 적합도를 나누는 정도를 나타냄\n",
    "    #     # sharing_factor가 크다 = 해당 개체와 가까운 개체가 많다\n",
    "    #     sharing_factor = sum(sh_values)\n",
    "    #     # print(sharing_factor) # 12.976303413814554\n",
    "        \n",
    "    #     # 적합도 조정\n",
    "    #     if sharing_factor > 0: # 근처에 다른 개체가 있는 경우\n",
    "    #         # print(ind.fitness.values)\n",
    "    #         ind.fitness.values = (ind.fitness.values[0] / sharing_factor,)\n",
    "\n",
    "def ga_adaptive_niching_search(model, pred_func, X_train, X_test, y_test, max_gen=10, initial_sigma=2.0, min_sigma=0.5, decay_constant=5.0):\n",
    "    \"\"\"\n",
    "    - model: 예측에 사용되는 딥러닝 모델 또는 함수\n",
    "    - pred_func: 입력(X_test)에 대해 model의 예측값을 반환하는 함수\n",
    "    - X_train: 입력값의 학습 데이터\n",
    "    - X_test: 최적화를 수행할 테스트 데이터\n",
    "    - y_test: 테스트 데이터에 대한 ground truth\n",
    "    - max_gen: GA의 최대 세대 수 (디폴트값: 100)\n",
    "    - initial_sigma: 초기 니치 크기 (디폴트값: 2.0)\n",
    "    - min_sigma: 최소 니치 크기 (디폴트값: 0.5)\n",
    "    - decay_constant: 니치 크기 감소율 상수 (디폴트값: 5.0)\n",
    "    \"\"\"\n",
    "    test = X_test\n",
    "    gt_ys = y_test\n",
    "\n",
    "    x_min = np.min(X_train, axis=0)\n",
    "    x_max = np.max(X_train, axis=0)\n",
    "\n",
    "    res = []\n",
    "    for gt_y in tqdm(gt_ys):\n",
    "        \n",
    "        # 적합도 함수 정의\n",
    "        def fitness(population):\n",
    "            population = np.concatenate(population, axis=0)\n",
    "            y_pred = pred_func(model=model, X_test=population)\n",
    "            y_pred_tensor = torch.tensor(y_pred, dtype=torch.float32)\n",
    "            fit_fun = -(y_pred_tensor - gt_y) ** 2\n",
    "            return fit_fun\n",
    "        \n",
    "        # GA 기본 설정\n",
    "        creator.create('FitnessMax', base.Fitness, weights=(1.0,)) # 적합도 최대화 문제를 정의\n",
    "        creator.create('Individual', list, fitness=creator.FitnessMax) # 개체 클래스 정의\n",
    "        toolbox = base.Toolbox()\n",
    "        toolbox.register('attr_float', random.uniform, x_min, x_max) # 각 유전자 값은 x_min과 x_max 사이의 실수로 초기화\n",
    "        toolbox.register('individual', tools.initRepeat, creator.Individual, toolbox.attr_float, n=1) # 유전자를 모아 개체 생성\n",
    "        toolbox.register('population', tools.initRepeat, list, toolbox.individual) # 개체를 모아 개체군을 생성\n",
    "\n",
    "        # GA 연산 등록\n",
    "        toolbox.register('evaluate', fitness) # 적합도 평가함수로 fitness 사용\n",
    "        toolbox.register('select', tools.selBest, k=5)  # Best Selection : 상위 5개의 개체를 선택하는 selBest 방식\n",
    "        toolbox.register('mate', tools.cxBlend, alpha=0.5) # crossover : 개체 간 교배(cxBlend)로 새로운 개체 생성\n",
    "        toolbox.register('mutate', tools.mutGaussian, mu=0, sigma=1, indpb=0.2) # mutation : 개체의 일부 유전자를 가우시안 노이즈로 변형\n",
    "\n",
    "        pop_size = 50\n",
    "        population = toolbox.population(n=pop_size)\n",
    "\n",
    "        # GA 루프\n",
    "        for gen in range(max_gen):\n",
    "\n",
    "            # 적합도 계산\n",
    "            fitness_scores = toolbox.evaluate(population)\n",
    "            for ind, fit in zip(population, fitness_scores):\n",
    "                ind.fitness.values = (fit,)\n",
    "\n",
    "            if len(population) == 1:\n",
    "                break\n",
    "            \n",
    "            # 다음 세대 생성\n",
    "            parents = toolbox.select(population, k=len(population))\n",
    "            offspring = tools.selBest(parents, k=len(population))\n",
    "            offspring = list(map(toolbox.clone, offspring))\n",
    "\n",
    "            # mate\n",
    "            for i in range(1, len(offspring), 2):\n",
    "                if random.random() < 0.7:\n",
    "                    toolbox.mate(offspring[i - 1], offspring[i])\n",
    "\n",
    "            # mutation\n",
    "            for child in offspring:\n",
    "                if random.random() < 0.2:\n",
    "                    toolbox.mutate(child)\n",
    "\n",
    "            for ind in offspring:\n",
    "                # del ind.fitness.values\n",
    "                if not ind.fitness.valid:\n",
    "                    fitness_scores = toolbox.evaluate([ind])\n",
    "                    ind.fitness.values = (fitness_scores[0],)\n",
    "\n",
    "            # 니치 크기 조정\n",
    "            sigma = adaptive_niche_size(gen, max_gen, initial_sigma, min_sigma, decay_constant)\n",
    "            fitness_sharing(offspring, sigma, alpha=1.0)\n",
    "\n",
    "            population[:] = offspring\n",
    "\n",
    "        # 최적 결과 반환\n",
    "        best_individual = tools.selBest(population, k=1)[0]\n",
    "        best_individual = best_individual[0]\n",
    "\n",
    "        x_pred = np.array(best_individual)\n",
    "        x_pred = x_pred.reshape(1, 8)\n",
    "        res.append(x_pred)\n",
    "        \n",
    "    return np.concatenate(res, axis=0)"
   ]
  },
  {
   "cell_type": "code",
   "execution_count": 9,
   "metadata": {},
   "outputs": [
    {
     "name": "stderr",
     "output_type": "stream",
     "text": [
      "  0%|          | 0/186 [00:00<?, ?it/s]/opt/conda/lib/python3.10/site-packages/deap/creator.py:185: RuntimeWarning: A class named 'FitnessMax' has already been created and it will be overwritten. Consider deleting previous creation of that class or rename it.\n",
      "  warnings.warn(\"A class named '{0}' has already been created and it \"\n",
      "/opt/conda/lib/python3.10/site-packages/deap/creator.py:185: RuntimeWarning: A class named 'Individual' has already been created and it will be overwritten. Consider deleting previous creation of that class or rename it.\n",
      "  warnings.warn(\"A class named '{0}' has already been created and it \"\n",
      "100%|██████████| 186/186 [00:10<00:00, 17.75it/s]\n"
     ]
    },
    {
     "data": {
      "text/plain": [
       "array([[ 0.30028415,  0.30028415,  0.30028415, ...,  0.30028415,\n",
       "         0.30028415, -1.19664022],\n",
       "       [-0.24855632, -0.24855632, -0.24855632, ..., -0.24855632,\n",
       "        -0.24855632, -1.01446206],\n",
       "       [ 0.87095575,  0.87095575,  0.87095575, ...,  0.87095575,\n",
       "         0.87095575,  3.64970165],\n",
       "       ...,\n",
       "       [ 0.0562841 ,  0.0562841 ,  0.0562841 , ...,  0.0562841 ,\n",
       "         0.0562841 , -0.77929245],\n",
       "       [ 0.67711016,  0.67711016,  0.67711016, ...,  0.67711016,\n",
       "         0.67711016,  2.5771396 ],\n",
       "       [ 0.01313539,  0.01313539,  0.01313539, ...,  0.01313539,\n",
       "         0.01313539, -1.22329402]])"
      ]
     },
     "execution_count": 9,
     "metadata": {},
     "output_type": "execute_result"
    }
   ],
   "source": [
    "ga_adaptive_niching_search(model, pred_func, X_train, X_test, y_test, max_gen=10, initial_sigma=2.0, min_sigma=0.5, decay_constant=5.0)"
   ]
  },
  {
   "cell_type": "markdown",
   "metadata": {},
   "source": [
    "### best individual을 1개가 아닌 50개 전부 가져오기"
   ]
  },
  {
   "cell_type": "code",
   "execution_count": 67,
   "metadata": {},
   "outputs": [],
   "source": [
    "x_min = np.min(X_train, axis=0)\n",
    "x_max = np.max(X_train, axis=0)"
   ]
  },
  {
   "cell_type": "code",
   "execution_count": 68,
   "metadata": {},
   "outputs": [
    {
     "name": "stdout",
     "output_type": "stream",
     "text": [
      "[0.10730594 0.40631394 0.54472764 0.65346535 0.27149321 0.26453488\n",
      " 0.51470588 0.        ] [0.27715064]\n"
     ]
    }
   ],
   "source": [
    "one_x, one_y = X_test[0], y_test[0]\n",
    "print(one_x, one_y)"
   ]
  },
  {
   "cell_type": "code",
   "execution_count": 69,
   "metadata": {},
   "outputs": [],
   "source": [
    "def fitness(population):\n",
    "    population = np.concatenate(population, axis=0)\n",
    "    y_pred = pred_func(model=model, X_test=population)\n",
    "    y_pred_tensor = torch.tensor(y_pred, dtype=torch.float32)\n",
    "    fit_fun = -(y_pred_tensor - one_y) ** 2\n",
    "    return fit_fun"
   ]
  },
  {
   "cell_type": "code",
   "execution_count": 70,
   "metadata": {},
   "outputs": [
    {
     "name": "stderr",
     "output_type": "stream",
     "text": [
      "/opt/conda/lib/python3.10/site-packages/deap/creator.py:185: RuntimeWarning: A class named 'FitnessMax' has already been created and it will be overwritten. Consider deleting previous creation of that class or rename it.\n",
      "  warnings.warn(\"A class named '{0}' has already been created and it \"\n",
      "/opt/conda/lib/python3.10/site-packages/deap/creator.py:185: RuntimeWarning: A class named 'Individual' has already been created and it will be overwritten. Consider deleting previous creation of that class or rename it.\n",
      "  warnings.warn(\"A class named '{0}' has already been created and it \"\n"
     ]
    }
   ],
   "source": [
    "creator.create('FitnessMax', base.Fitness, weights=(1.0,)) # 적합도 최대화 문제를 정의\n",
    "creator.create('Individual', list, fitness=creator.FitnessMax) # 개체 클래스 정의\n",
    "toolbox = base.Toolbox()\n",
    "toolbox.register('attr_float', random.uniform, x_min, x_max) # 각 유전자 값은 x_min과 x_max 사이의 실수로 초기화\n",
    "toolbox.register('individual', tools.initRepeat, creator.Individual, toolbox.attr_float, n=1) # 유전자를 모아 개체 생성\n",
    "toolbox.register('population', tools.initRepeat, list, toolbox.individual) # 개체를 모아 개체군을 생성\n",
    "\n",
    "# GA 연산 등록\n",
    "toolbox.register('evaluate', fitness) # 적합도 평가함수로 fitness 사용\n",
    "toolbox.register('select', tools.selBest, k=5)  # Best Selection : 상위 5개의 개체를 선택하는 selBest 방식\n",
    "toolbox.register('mate', tools.cxBlend, alpha=0.5) # crossover : 개체 간 교배(cxBlend)로 새로운 개체 생성\n",
    "toolbox.register('mutate', tools.mutGaussian, mu=0, sigma=1, indpb=0.2) # mutation : 개체의 일부 유전자를 가우시안 노이즈로 변형"
   ]
  },
  {
   "cell_type": "code",
   "execution_count": 71,
   "metadata": {},
   "outputs": [],
   "source": [
    "pop_size = 50\n",
    "population = toolbox.population(n=pop_size)"
   ]
  },
  {
   "cell_type": "code",
   "execution_count": 72,
   "metadata": {},
   "outputs": [],
   "source": [
    "# 적합도 계산\n",
    "fitness_scores = toolbox.evaluate(population)\n",
    "for ind, fit in zip(population, fitness_scores):\n",
    "    ind.fitness.values = (fit,)\n",
    "\n",
    "if len(population) == 1:\n",
    "    pass"
   ]
  },
  {
   "cell_type": "code",
   "execution_count": 73,
   "metadata": {},
   "outputs": [
    {
     "name": "stdout",
     "output_type": "stream",
     "text": [
      "torch.Size([50, 1])\n"
     ]
    }
   ],
   "source": [
    "print(fitness_scores.shape)"
   ]
  },
  {
   "cell_type": "code",
   "execution_count": 74,
   "metadata": {},
   "outputs": [],
   "source": [
    "# 다음 세대 생성\n",
    "parents = toolbox.select(population, k=len(population))\n",
    "offspring = tools.selBest(parents, k=len(population))\n",
    "offspring = list(map(toolbox.clone, offspring))"
   ]
  },
  {
   "cell_type": "code",
   "execution_count": 75,
   "metadata": {},
   "outputs": [],
   "source": [
    "# 다음 세대 생성\n",
    "parents = toolbox.select(population, k=len(population))\n",
    "offspring = tools.selBest(parents, k=len(population))\n",
    "offspring = list(map(toolbox.clone, offspring))\n",
    "\n",
    "# mate\n",
    "for i in range(1, len(offspring), 2):\n",
    "    if random.random() < 0.7:\n",
    "        toolbox.mate(offspring[i - 1], offspring[i])\n",
    "\n",
    "# mutation\n",
    "for child in offspring:\n",
    "    if random.random() < 0.2:\n",
    "        toolbox.mutate(child)\n",
    "\n",
    "for ind in offspring:\n",
    "    # del ind.fitness.values\n",
    "    if not ind.fitness.valid:\n",
    "        fitness_scores = toolbox.evaluate([ind])\n",
    "        ind.fitness.values = (fitness_scores[0],)"
   ]
  },
  {
   "cell_type": "code",
   "execution_count": 79,
   "metadata": {},
   "outputs": [
    {
     "name": "stdout",
     "output_type": "stream",
     "text": [
      "50\n",
      "8\n",
      "[ 0.02735379  0.02735379  0.02735379  0.03024283  0.02723001  0.02735379\n",
      "  0.02735379 -1.1307095 ]\n"
     ]
    }
   ],
   "source": [
    "best_individual = tools.selBest(population, k=len(population))\n",
    "print(len(best_individual))\n",
    "print(len(best_individual[0][0]))\n",
    "print(best_individual[0][0])"
   ]
  },
  {
   "cell_type": "markdown",
   "metadata": {},
   "source": [
    "### gt x와의 유클리드 거리 계산하기 (for문)"
   ]
  },
  {
   "cell_type": "code",
   "execution_count": 32,
   "metadata": {},
   "outputs": [
    {
     "data": {
      "text/plain": [
       "numpy.ndarray"
      ]
     },
     "execution_count": 32,
     "metadata": {},
     "output_type": "execute_result"
    }
   ],
   "source": [
    "type(one_x)\n"
   ]
  },
  {
   "cell_type": "code",
   "execution_count": 49,
   "metadata": {},
   "outputs": [
    {
     "name": "stdout",
     "output_type": "stream",
     "text": [
      "[array([ 0.01434638,  0.01434638,  0.01434638,  0.01727406,  0.01428146,\n",
      "        0.01434638,  0.01434638, -1.20441814])]\n"
     ]
    }
   ],
   "source": [
    "best_individual = tools.selBest(population, k=1)[0]\n",
    "print(best_individual)"
   ]
  },
  {
   "cell_type": "code",
   "execution_count": 93,
   "metadata": {},
   "outputs": [
    {
     "name": "stdout",
     "output_type": "stream",
     "text": [
      "50\n",
      "8\n"
     ]
    }
   ],
   "source": [
    "best_individual = tools.selBest(population, k=len(population))\n",
    "print(len(best_individual))\n",
    "print(len(best_individual[0][0]))"
   ]
  },
  {
   "cell_type": "code",
   "execution_count": 94,
   "metadata": {},
   "outputs": [
    {
     "name": "stdout",
     "output_type": "stream",
     "text": [
      "[array([1.56141621]), array([1.70833512]), array([1.60016184]), array([1.59917426]), array([1.70026852]), array([1.64508362]), array([1.39116122]), array([1.31275807]), array([1.31077764]), array([1.29785323]), array([1.16617573]), array([1.13802479]), array([0.90246977]), array([0.67232015]), array([0.8591729]), array([2.08292403]), array([2.08727548]), array([2.13314479]), array([3.97164566]), array([3.96024169]), array([3.72376516]), array([4.24076151]), array([4.51943871]), array([4.48325018]), array([4.54466483]), array([4.14111443]), array([4.11467768]), array([4.08395768]), array([1.97182677]), array([3.62961344]), array([2.2300868]), array([2.20168055]), array([1.96445686]), array([3.15394012]), array([3.46560778]), array([3.48362019]), array([3.31490768]), array([2.44547355]), array([2.4466868]), array([1.09732307]), array([1.31929938]), array([0.67413854]), array([0.66931077]), array([0.6755061]), array([0.87751231]), array([0.63322943]), array([0.93075508]), array([0.62315728]), array([0.61544914]), array([1.80015832])]\n",
      "50\n",
      "48\n",
      "[array([0.25608177, 0.25608177, 0.25608177, 0.25829143, 0.25492303,\n",
      "       0.25608177, 0.25608177, 0.16541575])]\n"
     ]
    }
   ],
   "source": [
    "dist = []\n",
    "for ind in best_individual:\n",
    "    # print(type(ind)\n",
    "    ind = np.array(ind)\n",
    "    # print(ind.shape) # (1, 8)\n",
    "    # distance1 = np.linalg.norm(one_x - ind)\n",
    "    # print(one_x.shape) # (8, )\n",
    "    distance = np.linalg.norm(one_x - ind, axis=1)\n",
    "    # dist.append(distance1)\n",
    "    dist.append(distance)\n",
    "print(dist)\n",
    "print(len(dist))\n",
    "print(np.argmin(dist))\n",
    "idx = np.argmin(dist)\n",
    "print(best_individual[idx])\n"
   ]
  },
  {
   "cell_type": "code",
   "execution_count": 50,
   "metadata": {},
   "outputs": [
    {
     "data": {
      "text/plain": [
       "deap.creator.Individual"
      ]
     },
     "execution_count": 50,
     "metadata": {},
     "output_type": "execute_result"
    }
   ],
   "source": [
    "type(best_individual)"
   ]
  },
  {
   "cell_type": "code",
   "execution_count": 80,
   "metadata": {},
   "outputs": [
    {
     "name": "stdout",
     "output_type": "stream",
     "text": [
      "50\n",
      "8\n"
     ]
    }
   ],
   "source": [
    "best_individual = tools.selBest(population, k=len(population))\n",
    "print(len(best_individual))\n",
    "print(len(best_individual[0][0]))"
   ]
  },
  {
   "cell_type": "markdown",
   "metadata": {},
   "source": [
    "### gt x와의 유클리드 거리 계산하기 (numpy array)"
   ]
  },
  {
   "cell_type": "code",
   "execution_count": 81,
   "metadata": {},
   "outputs": [
    {
     "name": "stdout",
     "output_type": "stream",
     "text": [
      "<class 'numpy.ndarray'>\n",
      "(50, 1, 8)\n",
      "[[[ 2.73537859e-02  2.73537859e-02  2.73537859e-02  3.02428341e-02\n",
      "    2.72300131e-02  2.73537859e-02  2.73537859e-02 -1.13070950e+00]]\n",
      "\n",
      " [[ 1.98631079e-03  1.98631079e-03  1.98631079e-03  4.95070789e-03\n",
      "    1.97732296e-03  1.98631079e-03  1.98631079e-03 -1.27445852e+00]]\n",
      "\n",
      " [[ 2.06262774e-02  2.06262774e-02  2.06262774e-02  2.35353083e-02\n",
      "    2.05329458e-02  2.06262774e-02  2.06262774e-02 -1.16883205e+00]]\n",
      "\n",
      " [[ 2.07973923e-02  2.07973923e-02  2.07973923e-02  2.37059148e-02\n",
      "    2.07032864e-02  2.07973923e-02  2.07973923e-02 -1.16786240e+00]]\n",
      "\n",
      " [[ 3.36975927e-03  3.36975927e-03  3.36975927e-03  6.33004711e-03\n",
      "    3.35451149e-03  3.36975927e-03  3.36975927e-03 -1.26661898e+00]]\n",
      "\n",
      " [[ 1.28615841e-02  1.28615841e-02  1.28615841e-02  1.57936784e-02\n",
      "    1.28033869e-02  1.28615841e-02  1.28615841e-02 -1.21283198e+00]]\n",
      "\n",
      " [[ 5.73227244e-02  5.73227244e-02  5.73227244e-02  6.01227559e-02\n",
      "    5.70633456e-02  5.73227244e-02  5.73227244e-02 -9.60885514e-01]]\n",
      "\n",
      " [[ 7.14075099e-02  7.14075099e-02  7.14075099e-02  7.41657054e-02\n",
      "    7.10843990e-02  7.14075099e-02  7.14075099e-02 -8.81071730e-01]]\n",
      "\n",
      " [[ 7.17661649e-02  7.17661649e-02  7.17661649e-02  7.45232951e-02\n",
      "    7.14414311e-02  7.17661649e-02  7.17661649e-02 -8.79039351e-01]]\n",
      "\n",
      " [[ 7.41105712e-02  7.41105712e-02  7.41105712e-02  7.68607378e-02\n",
      "    7.37752292e-02  7.41105712e-02  7.41105712e-02 -8.65754382e-01]]\n",
      "\n",
      " [[ 9.84356768e-02  9.84356768e-02  9.84356768e-02  1.01113591e-01\n",
      "    9.79902665e-02  9.84356768e-02  9.84356768e-02 -7.27912117e-01]]\n",
      "\n",
      " [[ 1.03761628e-01  1.03761628e-01  1.03761628e-01  1.06423722e-01\n",
      "    1.03292119e-01  1.03761628e-01  1.03761628e-01 -6.97731726e-01]]\n",
      "\n",
      " [[ 1.51290900e-01  1.51290900e-01  1.51290900e-01  1.53811818e-01\n",
      "    1.50606326e-01  1.51290900e-01  1.51290900e-01 -4.28399185e-01]]\n",
      "\n",
      " [[ 2.13569295e-01  2.13569295e-01  2.13569295e-01  2.15905228e-01\n",
      "    2.12602918e-01  2.13569295e-01  2.13569295e-01 -7.54882812e-02]]\n",
      "\n",
      " [[ 1.60975394e-01  1.60975394e-01  1.60975394e-01  1.63467546e-01\n",
      "    1.60246998e-01  1.60975394e-01  1.60975394e-01 -3.73520389e-01]]\n",
      "\n",
      " [[ 5.75108896e-01  5.75108896e-01  5.75108896e-01  5.76370949e-01\n",
      "    5.72506593e-01  5.75108896e-01  5.75108896e-01  1.97323612e+00]]\n",
      "\n",
      " [[ 5.75837278e-01  5.75837278e-01  5.75837278e-01  5.77097167e-01\n",
      "    5.73231679e-01  5.75837278e-01  5.75837278e-01  1.97736362e+00]]\n",
      "\n",
      " [[ 5.83506665e-01  5.83506665e-01  5.83506665e-01  5.84743774e-01\n",
      "    5.80866364e-01  5.83506665e-01  5.83506665e-01  2.02082348e+00]]\n",
      "\n",
      " [[ 8.84374828e-01  8.84374828e-01  8.84374828e-01  8.84718269e-01\n",
      "    8.80373132e-01  8.84374828e-01  8.84374828e-01  3.72574307e+00]]\n",
      "\n",
      " [[ 8.82528613e-01  8.82528613e-01  8.82528613e-01  8.82877538e-01\n",
      "    8.78535271e-01  8.82528613e-01  8.82528613e-01  3.71528119e+00]]\n",
      "\n",
      " [[ 8.44213409e-01  8.44213409e-01  8.44213409e-01  8.44676141e-01\n",
      "    8.40393439e-01  8.44213409e-01  8.44213409e-01  3.49816170e+00]]\n",
      "\n",
      " [[ 9.27907092e-01  9.27907092e-01  9.27907092e-01  9.28121229e-01\n",
      "    9.23708417e-01  9.27907092e-01  9.27907092e-01  3.97242590e+00]]\n",
      "\n",
      " [[ 9.72923283e-01  9.72923283e-01  9.72923283e-01  9.73003709e-01\n",
      "    9.68520916e-01  9.72923283e-01  9.72923283e-01  4.22751765e+00]]\n",
      "\n",
      " [[ 9.67080746e-01  9.67080746e-01  9.67080746e-01  9.67178526e-01\n",
      "    9.62704815e-01  9.67080746e-01  9.67080746e-01  4.19440994e+00]]\n",
      "\n",
      " [[ 9.76995446e-01  9.76995446e-01  9.76995446e-01  9.77063777e-01\n",
      "    9.72574652e-01  9.76995446e-01  9.76995446e-01  4.25059324e+00]]\n",
      "\n",
      " [[ 9.11795735e-01  9.11795735e-01  9.11795735e-01  9.12057728e-01\n",
      "    9.07669962e-01  9.11795735e-01  9.11795735e-01  3.88112821e+00]]\n",
      "\n",
      " [[ 9.07519887e-01  9.07519887e-01  9.07519887e-01  9.07794580e-01\n",
      "    9.03413462e-01  9.07519887e-01  9.07519887e-01  3.85689841e+00]]\n",
      "\n",
      " [[ 9.02550480e-01  9.02550480e-01  9.02550480e-01  9.02839934e-01\n",
      "    8.98466541e-01  9.02550480e-01  9.02550480e-01  3.82873844e+00]]\n",
      "\n",
      " [[ 5.56460253e-01  5.56460253e-01  5.56460253e-01  5.57777698e-01\n",
      "    5.53942334e-01  5.56460253e-01  5.56460253e-01  1.86756048e+00]]\n",
      "\n",
      " [[ 8.28940094e-01  8.28940094e-01  8.28940094e-01  8.29448193e-01\n",
      "    8.25189234e-01  8.28940094e-01  8.28940094e-01  3.41161292e+00]]\n",
      "\n",
      " [[ 5.99667431e-01  5.99667431e-01  5.99667431e-01  6.00856537e-01\n",
      "    5.96954004e-01  5.99667431e-01  5.99667431e-01  2.11240116e+00]]\n",
      "\n",
      " [[ 5.94938324e-01  5.94938324e-01  5.94938324e-01  5.96141478e-01\n",
      "    5.92246295e-01  5.94938324e-01  5.94938324e-01  2.08560288e+00]]\n",
      "\n",
      " [[ 5.55219347e-01  5.55219347e-01  5.55219347e-01  5.56540478e-01\n",
      "    5.52707042e-01  5.55219347e-01  5.55219347e-01  1.86052868e+00]]\n",
      "\n",
      " [[ 7.51574277e-01  7.51574277e-01  7.51574277e-01  7.52312175e-01\n",
      "    7.48173488e-01  7.51574277e-01  7.51574277e-01  2.97320662e+00]]\n",
      "\n",
      " [[ 8.02306436e-01  8.02306436e-01  8.02306436e-01  8.02893645e-01\n",
      "    7.98676090e-01  8.02306436e-01  8.02306436e-01  3.26068885e+00]]\n",
      "\n",
      " [[ 8.05233460e-01  8.05233460e-01  8.05233460e-01  8.05811975e-01\n",
      "    8.01589870e-01  8.05233460e-01  8.05233460e-01  3.27727532e+00]]\n",
      "\n",
      " [[ 7.77797385e-01  7.77797385e-01  7.77797385e-01  7.78457393e-01\n",
      "    7.74277940e-01  7.77797385e-01  7.77797385e-01  3.12180423e+00]]\n",
      "\n",
      " [[ 6.35377009e-01  6.35377009e-01  6.35377009e-01  6.36460048e-01\n",
      "    6.32502000e-01  6.35377009e-01  6.35377009e-01  2.31475543e+00]]\n",
      "\n",
      " [[ 6.35577495e-01  6.35577495e-01  6.35577495e-01  6.36659938e-01\n",
      "    6.32701579e-01  6.35577495e-01  6.35577495e-01  2.31589152e+00]]\n",
      "\n",
      " [[ 4.02153951e-01  4.02153951e-01  4.02153951e-01  4.03929731e-01\n",
      "    4.00334250e-01  4.02153951e-01  4.02153951e-01  9.93158102e-01]]\n",
      "\n",
      " [[ 4.43490571e-01  4.43490571e-01  4.43490571e-01  4.45143569e-01\n",
      "    4.41483826e-01  4.43490571e-01  4.43490571e-01  1.22739895e+00]]\n",
      "\n",
      " [[ 3.00862641e-01  3.00862641e-01  3.00862641e-01  3.02939287e-01\n",
      "    2.99501272e-01  3.00862641e-01  3.00862641e-01  4.19174015e-01]]\n",
      "\n",
      " [[ 2.98935501e-01  2.98935501e-01  2.98935501e-01  3.01017871e-01\n",
      "    2.97582852e-01  2.98935501e-01  2.98935501e-01  4.08253555e-01]]\n",
      "\n",
      " [[ 3.01395821e-01  3.01395821e-01  3.01395821e-01  3.03470883e-01\n",
      "    3.00032039e-01  3.01395821e-01  3.01395821e-01  4.22195369e-01]]\n",
      "\n",
      " [[ 3.56897187e-01  3.56897187e-01  3.56897187e-01  3.58807393e-01\n",
      "    3.55282268e-01  3.56897187e-01  3.56897187e-01  7.36703107e-01]]\n",
      "\n",
      " [[ 2.80700087e-01  2.80700087e-01  2.80700087e-01  2.82836622e-01\n",
      "    2.79429951e-01  2.80700087e-01  2.80700087e-01  3.04919541e-01]]\n",
      "\n",
      " [[ 3.68528927e-01  3.68528927e-01  3.68528927e-01  3.70404584e-01\n",
      "    3.66861375e-01  3.68528927e-01  3.68528927e-01  8.02616301e-01]]\n",
      "\n",
      " [[ 2.41211071e-01  2.41211071e-01  2.41211071e-01  2.43464899e-01\n",
      "    2.40119618e-01  2.41211071e-01  2.41211071e-01  8.11484483e-02]]\n",
      "\n",
      " [[ 2.56081770e-01  2.56081770e-01  2.56081770e-01  2.58291428e-01\n",
      "    2.54923029e-01  2.56081770e-01  2.56081770e-01  1.65415746e-01]]\n",
      "\n",
      " [[ 5.27411194e-01  5.27411194e-01  5.27411194e-01  5.28814923e-01\n",
      "    5.25024718e-01  5.27411194e-01  5.27411194e-01  1.70294915e+00]]]\n"
     ]
    }
   ],
   "source": [
    "best_individual = np.array(best_individual)\n",
    "print(type(best_individual))\n",
    "print(best_individual.shape)\n",
    "print(best_individual)"
   ]
  },
  {
   "cell_type": "code",
   "execution_count": 82,
   "metadata": {},
   "outputs": [
    {
     "name": "stdout",
     "output_type": "stream",
     "text": [
      "(50, 8)\n",
      "[[ 2.73537859e-02  2.73537859e-02  2.73537859e-02  3.02428341e-02\n",
      "   2.72300131e-02  2.73537859e-02  2.73537859e-02 -1.13070950e+00]\n",
      " [ 1.98631079e-03  1.98631079e-03  1.98631079e-03  4.95070789e-03\n",
      "   1.97732296e-03  1.98631079e-03  1.98631079e-03 -1.27445852e+00]\n",
      " [ 2.06262774e-02  2.06262774e-02  2.06262774e-02  2.35353083e-02\n",
      "   2.05329458e-02  2.06262774e-02  2.06262774e-02 -1.16883205e+00]\n",
      " [ 2.07973923e-02  2.07973923e-02  2.07973923e-02  2.37059148e-02\n",
      "   2.07032864e-02  2.07973923e-02  2.07973923e-02 -1.16786240e+00]\n",
      " [ 3.36975927e-03  3.36975927e-03  3.36975927e-03  6.33004711e-03\n",
      "   3.35451149e-03  3.36975927e-03  3.36975927e-03 -1.26661898e+00]\n",
      " [ 1.28615841e-02  1.28615841e-02  1.28615841e-02  1.57936784e-02\n",
      "   1.28033869e-02  1.28615841e-02  1.28615841e-02 -1.21283198e+00]\n",
      " [ 5.73227244e-02  5.73227244e-02  5.73227244e-02  6.01227559e-02\n",
      "   5.70633456e-02  5.73227244e-02  5.73227244e-02 -9.60885514e-01]\n",
      " [ 7.14075099e-02  7.14075099e-02  7.14075099e-02  7.41657054e-02\n",
      "   7.10843990e-02  7.14075099e-02  7.14075099e-02 -8.81071730e-01]\n",
      " [ 7.17661649e-02  7.17661649e-02  7.17661649e-02  7.45232951e-02\n",
      "   7.14414311e-02  7.17661649e-02  7.17661649e-02 -8.79039351e-01]\n",
      " [ 7.41105712e-02  7.41105712e-02  7.41105712e-02  7.68607378e-02\n",
      "   7.37752292e-02  7.41105712e-02  7.41105712e-02 -8.65754382e-01]\n",
      " [ 9.84356768e-02  9.84356768e-02  9.84356768e-02  1.01113591e-01\n",
      "   9.79902665e-02  9.84356768e-02  9.84356768e-02 -7.27912117e-01]\n",
      " [ 1.03761628e-01  1.03761628e-01  1.03761628e-01  1.06423722e-01\n",
      "   1.03292119e-01  1.03761628e-01  1.03761628e-01 -6.97731726e-01]\n",
      " [ 1.51290900e-01  1.51290900e-01  1.51290900e-01  1.53811818e-01\n",
      "   1.50606326e-01  1.51290900e-01  1.51290900e-01 -4.28399185e-01]\n",
      " [ 2.13569295e-01  2.13569295e-01  2.13569295e-01  2.15905228e-01\n",
      "   2.12602918e-01  2.13569295e-01  2.13569295e-01 -7.54882812e-02]\n",
      " [ 1.60975394e-01  1.60975394e-01  1.60975394e-01  1.63467546e-01\n",
      "   1.60246998e-01  1.60975394e-01  1.60975394e-01 -3.73520389e-01]\n",
      " [ 5.75108896e-01  5.75108896e-01  5.75108896e-01  5.76370949e-01\n",
      "   5.72506593e-01  5.75108896e-01  5.75108896e-01  1.97323612e+00]\n",
      " [ 5.75837278e-01  5.75837278e-01  5.75837278e-01  5.77097167e-01\n",
      "   5.73231679e-01  5.75837278e-01  5.75837278e-01  1.97736362e+00]\n",
      " [ 5.83506665e-01  5.83506665e-01  5.83506665e-01  5.84743774e-01\n",
      "   5.80866364e-01  5.83506665e-01  5.83506665e-01  2.02082348e+00]\n",
      " [ 8.84374828e-01  8.84374828e-01  8.84374828e-01  8.84718269e-01\n",
      "   8.80373132e-01  8.84374828e-01  8.84374828e-01  3.72574307e+00]\n",
      " [ 8.82528613e-01  8.82528613e-01  8.82528613e-01  8.82877538e-01\n",
      "   8.78535271e-01  8.82528613e-01  8.82528613e-01  3.71528119e+00]\n",
      " [ 8.44213409e-01  8.44213409e-01  8.44213409e-01  8.44676141e-01\n",
      "   8.40393439e-01  8.44213409e-01  8.44213409e-01  3.49816170e+00]\n",
      " [ 9.27907092e-01  9.27907092e-01  9.27907092e-01  9.28121229e-01\n",
      "   9.23708417e-01  9.27907092e-01  9.27907092e-01  3.97242590e+00]\n",
      " [ 9.72923283e-01  9.72923283e-01  9.72923283e-01  9.73003709e-01\n",
      "   9.68520916e-01  9.72923283e-01  9.72923283e-01  4.22751765e+00]\n",
      " [ 9.67080746e-01  9.67080746e-01  9.67080746e-01  9.67178526e-01\n",
      "   9.62704815e-01  9.67080746e-01  9.67080746e-01  4.19440994e+00]\n",
      " [ 9.76995446e-01  9.76995446e-01  9.76995446e-01  9.77063777e-01\n",
      "   9.72574652e-01  9.76995446e-01  9.76995446e-01  4.25059324e+00]\n",
      " [ 9.11795735e-01  9.11795735e-01  9.11795735e-01  9.12057728e-01\n",
      "   9.07669962e-01  9.11795735e-01  9.11795735e-01  3.88112821e+00]\n",
      " [ 9.07519887e-01  9.07519887e-01  9.07519887e-01  9.07794580e-01\n",
      "   9.03413462e-01  9.07519887e-01  9.07519887e-01  3.85689841e+00]\n",
      " [ 9.02550480e-01  9.02550480e-01  9.02550480e-01  9.02839934e-01\n",
      "   8.98466541e-01  9.02550480e-01  9.02550480e-01  3.82873844e+00]\n",
      " [ 5.56460253e-01  5.56460253e-01  5.56460253e-01  5.57777698e-01\n",
      "   5.53942334e-01  5.56460253e-01  5.56460253e-01  1.86756048e+00]\n",
      " [ 8.28940094e-01  8.28940094e-01  8.28940094e-01  8.29448193e-01\n",
      "   8.25189234e-01  8.28940094e-01  8.28940094e-01  3.41161292e+00]\n",
      " [ 5.99667431e-01  5.99667431e-01  5.99667431e-01  6.00856537e-01\n",
      "   5.96954004e-01  5.99667431e-01  5.99667431e-01  2.11240116e+00]\n",
      " [ 5.94938324e-01  5.94938324e-01  5.94938324e-01  5.96141478e-01\n",
      "   5.92246295e-01  5.94938324e-01  5.94938324e-01  2.08560288e+00]\n",
      " [ 5.55219347e-01  5.55219347e-01  5.55219347e-01  5.56540478e-01\n",
      "   5.52707042e-01  5.55219347e-01  5.55219347e-01  1.86052868e+00]\n",
      " [ 7.51574277e-01  7.51574277e-01  7.51574277e-01  7.52312175e-01\n",
      "   7.48173488e-01  7.51574277e-01  7.51574277e-01  2.97320662e+00]\n",
      " [ 8.02306436e-01  8.02306436e-01  8.02306436e-01  8.02893645e-01\n",
      "   7.98676090e-01  8.02306436e-01  8.02306436e-01  3.26068885e+00]\n",
      " [ 8.05233460e-01  8.05233460e-01  8.05233460e-01  8.05811975e-01\n",
      "   8.01589870e-01  8.05233460e-01  8.05233460e-01  3.27727532e+00]\n",
      " [ 7.77797385e-01  7.77797385e-01  7.77797385e-01  7.78457393e-01\n",
      "   7.74277940e-01  7.77797385e-01  7.77797385e-01  3.12180423e+00]\n",
      " [ 6.35377009e-01  6.35377009e-01  6.35377009e-01  6.36460048e-01\n",
      "   6.32502000e-01  6.35377009e-01  6.35377009e-01  2.31475543e+00]\n",
      " [ 6.35577495e-01  6.35577495e-01  6.35577495e-01  6.36659938e-01\n",
      "   6.32701579e-01  6.35577495e-01  6.35577495e-01  2.31589152e+00]\n",
      " [ 4.02153951e-01  4.02153951e-01  4.02153951e-01  4.03929731e-01\n",
      "   4.00334250e-01  4.02153951e-01  4.02153951e-01  9.93158102e-01]\n",
      " [ 4.43490571e-01  4.43490571e-01  4.43490571e-01  4.45143569e-01\n",
      "   4.41483826e-01  4.43490571e-01  4.43490571e-01  1.22739895e+00]\n",
      " [ 3.00862641e-01  3.00862641e-01  3.00862641e-01  3.02939287e-01\n",
      "   2.99501272e-01  3.00862641e-01  3.00862641e-01  4.19174015e-01]\n",
      " [ 2.98935501e-01  2.98935501e-01  2.98935501e-01  3.01017871e-01\n",
      "   2.97582852e-01  2.98935501e-01  2.98935501e-01  4.08253555e-01]\n",
      " [ 3.01395821e-01  3.01395821e-01  3.01395821e-01  3.03470883e-01\n",
      "   3.00032039e-01  3.01395821e-01  3.01395821e-01  4.22195369e-01]\n",
      " [ 3.56897187e-01  3.56897187e-01  3.56897187e-01  3.58807393e-01\n",
      "   3.55282268e-01  3.56897187e-01  3.56897187e-01  7.36703107e-01]\n",
      " [ 2.80700087e-01  2.80700087e-01  2.80700087e-01  2.82836622e-01\n",
      "   2.79429951e-01  2.80700087e-01  2.80700087e-01  3.04919541e-01]\n",
      " [ 3.68528927e-01  3.68528927e-01  3.68528927e-01  3.70404584e-01\n",
      "   3.66861375e-01  3.68528927e-01  3.68528927e-01  8.02616301e-01]\n",
      " [ 2.41211071e-01  2.41211071e-01  2.41211071e-01  2.43464899e-01\n",
      "   2.40119618e-01  2.41211071e-01  2.41211071e-01  8.11484483e-02]\n",
      " [ 2.56081770e-01  2.56081770e-01  2.56081770e-01  2.58291428e-01\n",
      "   2.54923029e-01  2.56081770e-01  2.56081770e-01  1.65415746e-01]\n",
      " [ 5.27411194e-01  5.27411194e-01  5.27411194e-01  5.28814923e-01\n",
      "   5.25024718e-01  5.27411194e-01  5.27411194e-01  1.70294915e+00]]\n"
     ]
    }
   ],
   "source": [
    "squeezed_array = best_individual.squeeze(axis=1)  # axis=1은 1인 차원을 제거\n",
    "print(squeezed_array.shape)\n",
    "print(squeezed_array)\n",
    "\n"
   ]
  },
  {
   "cell_type": "code",
   "execution_count": 83,
   "metadata": {},
   "outputs": [
    {
     "data": {
      "text/plain": [
       "(8,)"
      ]
     },
     "execution_count": 83,
     "metadata": {},
     "output_type": "execute_result"
    }
   ],
   "source": [
    "one_x.shape"
   ]
  },
  {
   "cell_type": "code",
   "execution_count": 84,
   "metadata": {},
   "outputs": [
    {
     "name": "stdout",
     "output_type": "stream",
     "text": [
      "(50, 8)\n",
      "[[0.10730594 0.40631394 0.54472764 0.65346535 0.27149321 0.26453488\n",
      "  0.51470588 0.        ]\n",
      " [0.10730594 0.40631394 0.54472764 0.65346535 0.27149321 0.26453488\n",
      "  0.51470588 0.        ]\n",
      " [0.10730594 0.40631394 0.54472764 0.65346535 0.27149321 0.26453488\n",
      "  0.51470588 0.        ]\n",
      " [0.10730594 0.40631394 0.54472764 0.65346535 0.27149321 0.26453488\n",
      "  0.51470588 0.        ]\n",
      " [0.10730594 0.40631394 0.54472764 0.65346535 0.27149321 0.26453488\n",
      "  0.51470588 0.        ]\n",
      " [0.10730594 0.40631394 0.54472764 0.65346535 0.27149321 0.26453488\n",
      "  0.51470588 0.        ]\n",
      " [0.10730594 0.40631394 0.54472764 0.65346535 0.27149321 0.26453488\n",
      "  0.51470588 0.        ]\n",
      " [0.10730594 0.40631394 0.54472764 0.65346535 0.27149321 0.26453488\n",
      "  0.51470588 0.        ]\n",
      " [0.10730594 0.40631394 0.54472764 0.65346535 0.27149321 0.26453488\n",
      "  0.51470588 0.        ]\n",
      " [0.10730594 0.40631394 0.54472764 0.65346535 0.27149321 0.26453488\n",
      "  0.51470588 0.        ]\n",
      " [0.10730594 0.40631394 0.54472764 0.65346535 0.27149321 0.26453488\n",
      "  0.51470588 0.        ]\n",
      " [0.10730594 0.40631394 0.54472764 0.65346535 0.27149321 0.26453488\n",
      "  0.51470588 0.        ]\n",
      " [0.10730594 0.40631394 0.54472764 0.65346535 0.27149321 0.26453488\n",
      "  0.51470588 0.        ]\n",
      " [0.10730594 0.40631394 0.54472764 0.65346535 0.27149321 0.26453488\n",
      "  0.51470588 0.        ]\n",
      " [0.10730594 0.40631394 0.54472764 0.65346535 0.27149321 0.26453488\n",
      "  0.51470588 0.        ]\n",
      " [0.10730594 0.40631394 0.54472764 0.65346535 0.27149321 0.26453488\n",
      "  0.51470588 0.        ]\n",
      " [0.10730594 0.40631394 0.54472764 0.65346535 0.27149321 0.26453488\n",
      "  0.51470588 0.        ]\n",
      " [0.10730594 0.40631394 0.54472764 0.65346535 0.27149321 0.26453488\n",
      "  0.51470588 0.        ]\n",
      " [0.10730594 0.40631394 0.54472764 0.65346535 0.27149321 0.26453488\n",
      "  0.51470588 0.        ]\n",
      " [0.10730594 0.40631394 0.54472764 0.65346535 0.27149321 0.26453488\n",
      "  0.51470588 0.        ]\n",
      " [0.10730594 0.40631394 0.54472764 0.65346535 0.27149321 0.26453488\n",
      "  0.51470588 0.        ]\n",
      " [0.10730594 0.40631394 0.54472764 0.65346535 0.27149321 0.26453488\n",
      "  0.51470588 0.        ]\n",
      " [0.10730594 0.40631394 0.54472764 0.65346535 0.27149321 0.26453488\n",
      "  0.51470588 0.        ]\n",
      " [0.10730594 0.40631394 0.54472764 0.65346535 0.27149321 0.26453488\n",
      "  0.51470588 0.        ]\n",
      " [0.10730594 0.40631394 0.54472764 0.65346535 0.27149321 0.26453488\n",
      "  0.51470588 0.        ]\n",
      " [0.10730594 0.40631394 0.54472764 0.65346535 0.27149321 0.26453488\n",
      "  0.51470588 0.        ]\n",
      " [0.10730594 0.40631394 0.54472764 0.65346535 0.27149321 0.26453488\n",
      "  0.51470588 0.        ]\n",
      " [0.10730594 0.40631394 0.54472764 0.65346535 0.27149321 0.26453488\n",
      "  0.51470588 0.        ]\n",
      " [0.10730594 0.40631394 0.54472764 0.65346535 0.27149321 0.26453488\n",
      "  0.51470588 0.        ]\n",
      " [0.10730594 0.40631394 0.54472764 0.65346535 0.27149321 0.26453488\n",
      "  0.51470588 0.        ]\n",
      " [0.10730594 0.40631394 0.54472764 0.65346535 0.27149321 0.26453488\n",
      "  0.51470588 0.        ]\n",
      " [0.10730594 0.40631394 0.54472764 0.65346535 0.27149321 0.26453488\n",
      "  0.51470588 0.        ]\n",
      " [0.10730594 0.40631394 0.54472764 0.65346535 0.27149321 0.26453488\n",
      "  0.51470588 0.        ]\n",
      " [0.10730594 0.40631394 0.54472764 0.65346535 0.27149321 0.26453488\n",
      "  0.51470588 0.        ]\n",
      " [0.10730594 0.40631394 0.54472764 0.65346535 0.27149321 0.26453488\n",
      "  0.51470588 0.        ]\n",
      " [0.10730594 0.40631394 0.54472764 0.65346535 0.27149321 0.26453488\n",
      "  0.51470588 0.        ]\n",
      " [0.10730594 0.40631394 0.54472764 0.65346535 0.27149321 0.26453488\n",
      "  0.51470588 0.        ]\n",
      " [0.10730594 0.40631394 0.54472764 0.65346535 0.27149321 0.26453488\n",
      "  0.51470588 0.        ]\n",
      " [0.10730594 0.40631394 0.54472764 0.65346535 0.27149321 0.26453488\n",
      "  0.51470588 0.        ]\n",
      " [0.10730594 0.40631394 0.54472764 0.65346535 0.27149321 0.26453488\n",
      "  0.51470588 0.        ]\n",
      " [0.10730594 0.40631394 0.54472764 0.65346535 0.27149321 0.26453488\n",
      "  0.51470588 0.        ]\n",
      " [0.10730594 0.40631394 0.54472764 0.65346535 0.27149321 0.26453488\n",
      "  0.51470588 0.        ]\n",
      " [0.10730594 0.40631394 0.54472764 0.65346535 0.27149321 0.26453488\n",
      "  0.51470588 0.        ]\n",
      " [0.10730594 0.40631394 0.54472764 0.65346535 0.27149321 0.26453488\n",
      "  0.51470588 0.        ]\n",
      " [0.10730594 0.40631394 0.54472764 0.65346535 0.27149321 0.26453488\n",
      "  0.51470588 0.        ]\n",
      " [0.10730594 0.40631394 0.54472764 0.65346535 0.27149321 0.26453488\n",
      "  0.51470588 0.        ]\n",
      " [0.10730594 0.40631394 0.54472764 0.65346535 0.27149321 0.26453488\n",
      "  0.51470588 0.        ]\n",
      " [0.10730594 0.40631394 0.54472764 0.65346535 0.27149321 0.26453488\n",
      "  0.51470588 0.        ]\n",
      " [0.10730594 0.40631394 0.54472764 0.65346535 0.27149321 0.26453488\n",
      "  0.51470588 0.        ]\n",
      " [0.10730594 0.40631394 0.54472764 0.65346535 0.27149321 0.26453488\n",
      "  0.51470588 0.        ]]\n"
     ]
    }
   ],
   "source": [
    "expanded_one_x = np.tile(one_x, (50, 1))\n",
    "print(expanded_one_x.shape)\n",
    "print(expanded_one_x)"
   ]
  },
  {
   "cell_type": "code",
   "execution_count": 89,
   "metadata": {},
   "outputs": [
    {
     "name": "stdout",
     "output_type": "stream",
     "text": [
      "(50, 8)\n",
      "[[-7.99521502e-02 -3.78960157e-01 -5.17373850e-01 -6.23222512e-01\n",
      "  -2.44263200e-01 -2.37181098e-01 -4.87352096e-01 -1.13070950e+00]\n",
      " [-1.05319625e-01 -4.04327633e-01 -5.42741325e-01 -6.48514639e-01\n",
      "  -2.69515890e-01 -2.62548573e-01 -5.12719572e-01 -1.27445852e+00]\n",
      " [-8.66796587e-02 -3.85687666e-01 -5.24101359e-01 -6.29930038e-01\n",
      "  -2.50960267e-01 -2.43908606e-01 -4.94079605e-01 -1.16883205e+00]\n",
      " [-8.65085438e-02 -3.85516551e-01 -5.23930244e-01 -6.29759432e-01\n",
      "  -2.50789926e-01 -2.43737491e-01 -4.93908490e-01 -1.16786240e+00]\n",
      " [-1.03936177e-01 -4.02944184e-01 -5.41357877e-01 -6.47135299e-01\n",
      "  -2.68138701e-01 -2.61165124e-01 -5.11336123e-01 -1.26661898e+00]\n",
      " [-9.44443519e-02 -3.93452359e-01 -5.31866052e-01 -6.37671668e-01\n",
      "  -2.58689826e-01 -2.51673300e-01 -5.01844298e-01 -1.21283198e+00]\n",
      " [-4.99832116e-02 -3.48991219e-01 -4.87404912e-01 -5.93342591e-01\n",
      "  -2.14429867e-01 -2.07212159e-01 -4.57383158e-01 -9.60885514e-01]\n",
      " [-3.58984262e-02 -3.34906433e-01 -4.73320126e-01 -5.79299641e-01\n",
      "  -2.00408814e-01 -1.93127374e-01 -4.43298372e-01 -8.81071730e-01]\n",
      " [-3.55397712e-02 -3.34547778e-01 -4.72961471e-01 -5.78942051e-01\n",
      "  -2.00051782e-01 -1.92768719e-01 -4.42939717e-01 -8.79039351e-01]\n",
      " [-3.31953649e-02 -3.32203372e-01 -4.70617065e-01 -5.76604609e-01\n",
      "  -1.97717983e-01 -1.90424313e-01 -4.40595311e-01 -8.65754382e-01]\n",
      " [-8.87025924e-03 -3.07878266e-01 -4.46291959e-01 -5.52351756e-01\n",
      "  -1.73502946e-01 -1.66099207e-01 -4.16270206e-01 -7.27912117e-01]\n",
      " [-3.54430788e-03 -3.02552315e-01 -4.40966008e-01 -5.47041624e-01\n",
      "  -1.68201094e-01 -1.60773256e-01 -4.10944254e-01 -6.97731726e-01]\n",
      " [ 4.39849641e-02 -2.55023043e-01 -3.93436736e-01 -4.99653528e-01\n",
      "  -1.20886887e-01 -1.13243984e-01 -3.63414982e-01 -4.28399185e-01]\n",
      " [ 1.06263359e-01 -1.92744648e-01 -3.31158341e-01 -4.37560119e-01\n",
      "  -5.88902947e-02 -5.09655888e-02 -3.01136587e-01 -7.54882812e-02]\n",
      " [ 5.36694575e-02 -2.45338550e-01 -3.83752243e-01 -4.89997801e-01\n",
      "  -1.11246215e-01 -1.03559490e-01 -3.53730489e-01 -3.73520389e-01]\n",
      " [ 4.67802960e-01  1.68794953e-01  3.03812597e-02 -7.70943979e-02\n",
      "   3.01013381e-01  3.10574012e-01  6.04030135e-02  1.97323612e+00]\n",
      " [ 4.68531342e-01  1.69523335e-01  3.11096417e-02 -7.63681793e-02\n",
      "   3.01738467e-01  3.11302394e-01  6.11313956e-02  1.97736362e+00]\n",
      " [ 4.76200729e-01  1.77192722e-01  3.87790291e-02 -6.87215723e-02\n",
      "   3.09373151e-01  3.18971782e-01  6.88007830e-02  2.02082348e+00]\n",
      " [ 7.77068892e-01  4.78060884e-01  3.39647191e-01  2.31252922e-01\n",
      "   6.08879919e-01  6.19839944e-01  3.69668945e-01  3.72574307e+00]\n",
      " [ 7.75222677e-01  4.76214670e-01  3.37800977e-01  2.29412192e-01\n",
      "   6.07042059e-01  6.17993730e-01  3.67822731e-01  3.71528119e+00]\n",
      " [ 7.36907473e-01  4.37899466e-01  2.99485773e-01  1.91210795e-01\n",
      "   5.68900226e-01  5.79678525e-01  3.29507527e-01  3.49816170e+00]\n",
      " [ 8.20601156e-01  5.21593148e-01  3.83179456e-01  2.74655883e-01\n",
      "   6.52215204e-01  6.63372208e-01  4.13201209e-01  3.97242590e+00]\n",
      " [ 8.65617347e-01  5.66609340e-01  4.28195647e-01  3.19538363e-01\n",
      "   6.97027703e-01  7.08388400e-01  4.58217401e-01  4.22751765e+00]\n",
      " [ 8.59774810e-01  5.60766803e-01  4.22353110e-01  3.13713180e-01\n",
      "   6.91211603e-01  7.02545862e-01  4.52374864e-01  4.19440994e+00]\n",
      " [ 8.69689510e-01  5.70681503e-01  4.32267810e-01  3.23598430e-01\n",
      "   7.01081440e-01  7.12460563e-01  4.62289564e-01  4.25059324e+00]\n",
      " [ 8.04489799e-01  5.05481792e-01  3.67068099e-01  2.58592381e-01\n",
      "   6.36176750e-01  6.47260851e-01  3.97089853e-01  3.88112821e+00]\n",
      " [ 8.00213951e-01  5.01205944e-01  3.62792251e-01  2.54329234e-01\n",
      "   6.31920249e-01  6.42985003e-01  3.92814005e-01  3.85689841e+00]\n",
      " [ 7.95244544e-01  4.96236537e-01  3.57822844e-01  2.49374588e-01\n",
      "   6.26973329e-01  6.38015597e-01  3.87844598e-01  3.82873844e+00]\n",
      " [ 4.49154317e-01  1.50146310e-01  1.17326170e-02 -9.56876485e-02\n",
      "   2.82449121e-01  2.91925369e-01  4.17543709e-02  1.86756048e+00]\n",
      " [ 7.21634158e-01  4.22626151e-01  2.84212458e-01  1.75982847e-01\n",
      "   5.53696022e-01  5.64405211e-01  3.14234212e-01  3.41161292e+00]\n",
      " [ 4.92361495e-01  1.93353487e-01  5.49397946e-02 -5.26088091e-02\n",
      "   3.25460791e-01  3.35132547e-01  8.49615484e-02  2.11240116e+00]\n",
      " [ 4.87632388e-01  1.88624381e-01  5.02106879e-02 -5.73238690e-02\n",
      "   3.20753083e-01  3.30403440e-01  8.02324417e-02  2.08560288e+00]\n",
      " [ 4.47913411e-01  1.48905404e-01  1.04917110e-02 -9.69248687e-02\n",
      "   2.81213830e-01  2.90684463e-01  4.05134649e-02  1.86052868e+00]\n",
      " [ 6.44268341e-01  3.45260333e-01  2.06846641e-01  9.88468284e-02\n",
      "   4.76680276e-01  4.87039393e-01  2.36868394e-01  2.97320662e+00]\n",
      " [ 6.95000500e-01  3.95992493e-01  2.57578800e-01  1.49428298e-01\n",
      "   5.27182878e-01  5.37771553e-01  2.87600554e-01  3.26068885e+00]\n",
      " [ 6.97927524e-01  3.98919517e-01  2.60505824e-01  1.52346628e-01\n",
      "   5.30096657e-01  5.40698576e-01  2.90527578e-01  3.27727532e+00]\n",
      " [ 6.70491449e-01  3.71483442e-01  2.33069749e-01  1.24992046e-01\n",
      "   5.02784727e-01  5.13262501e-01  2.63091503e-01  3.12180423e+00]\n",
      " [ 5.28071073e-01  2.29063066e-01  9.06493728e-02 -1.70052989e-02\n",
      "   3.61008787e-01  3.70842125e-01  1.20671127e-01  2.31475543e+00]\n",
      " [ 5.28271559e-01  2.29263552e-01  9.08498591e-02 -1.68054082e-02\n",
      "   3.61208366e-01  3.71042612e-01  1.20871613e-01  2.31589152e+00]\n",
      " [ 2.94848015e-01 -4.15999257e-03 -1.42573685e-01 -2.49535615e-01\n",
      "   1.28841037e-01  1.37619067e-01 -1.12551932e-01  9.93158102e-01]\n",
      " [ 3.36184635e-01  3.71766276e-02 -1.01237065e-01 -2.08321777e-01\n",
      "   1.69990614e-01  1.78955687e-01 -7.12153114e-02  1.22739895e+00]\n",
      " [ 1.93556705e-01 -1.05451302e-01 -2.43864995e-01 -3.50526060e-01\n",
      "   2.80080593e-02  3.63277576e-02 -2.13843241e-01  4.19174015e-01]\n",
      " [ 1.91629565e-01 -1.07378442e-01 -2.45792135e-01 -3.52447475e-01\n",
      "   2.60896393e-02  3.44006176e-02 -2.15770381e-01  4.08253555e-01]\n",
      " [ 1.94089885e-01 -1.04918122e-01 -2.43331815e-01 -3.49994463e-01\n",
      "   2.85388268e-02  3.68609377e-02 -2.13310061e-01  4.22195369e-01]\n",
      " [ 2.49591251e-01 -4.94167563e-02 -1.87830449e-01 -2.94657953e-01\n",
      "   8.37890549e-02  9.23623033e-02 -1.57808695e-01  7.36703107e-01]\n",
      " [ 1.73394151e-01 -1.25613856e-01 -2.64027549e-01 -3.70628725e-01\n",
      "   7.93673830e-03  1.61652034e-02 -2.34005795e-01  3.04919541e-01]\n",
      " [ 2.61222991e-01 -3.77850163e-02 -1.76198709e-01 -2.83060763e-01\n",
      "   9.53681626e-02  1.03994043e-01 -1.46176955e-01  8.02616301e-01]\n",
      " [ 1.33905135e-01 -1.65102873e-01 -3.03516565e-01 -4.10000447e-01\n",
      "  -3.13735948e-02 -2.33238130e-02 -2.73494812e-01  8.11484483e-02]\n",
      " [ 1.48775834e-01 -1.50232173e-01 -2.88645866e-01 -3.95173918e-01\n",
      "  -1.65701833e-02 -8.45311335e-03 -2.58624112e-01  1.65415746e-01]\n",
      " [ 4.20105258e-01  1.21097251e-01 -1.73164421e-02 -1.24650423e-01\n",
      "   2.53531505e-01  2.62876310e-01  1.27053117e-02  1.70294915e+00]]\n"
     ]
    }
   ],
   "source": [
    "# 두 배열의 차이를 계산\n",
    "differences = squeezed_array - expanded_one_x  # (50, 8)\n",
    "print(differences.shape)\n",
    "print(differences)\n",
    "\n"
   ]
  },
  {
   "cell_type": "code",
   "execution_count": 92,
   "metadata": {},
   "outputs": [
    {
     "name": "stdout",
     "output_type": "stream",
     "text": [
      "(50,)\n",
      "[1.56141621 1.70833512 1.60016184 1.59917426 1.70026852 1.64508362\n",
      " 1.39116122 1.31275807 1.31077764 1.29785323 1.16617573 1.13802479\n",
      " 0.90246977 0.67232015 0.8591729  2.08292403 2.08727548 2.13314479\n",
      " 3.97164566 3.96024169 3.72376516 4.24076151 4.51943871 4.48325018\n",
      " 4.54466483 4.14111443 4.11467768 4.08395768 1.97182677 3.62961344\n",
      " 2.2300868  2.20168055 1.96445686 3.15394012 3.46560778 3.48362019\n",
      " 3.31490768 2.44547355 2.4466868  1.09732307 1.31929938 0.67413854\n",
      " 0.66931077 0.6755061  0.87751231 0.63322943 0.93075508 0.62315728\n",
      " 0.61544914 1.80015832]\n",
      "48\n",
      "[[0.25608177 0.25608177 0.25608177 0.25829143 0.25492303 0.25608177\n",
      "  0.25608177 0.16541575]]\n"
     ]
    }
   ],
   "source": [
    "# 각 행의 유클리드 거리 계산\n",
    "distances = np.linalg.norm(differences, axis=1)  # 결과는 (50,)\n",
    "print(distances.shape)\n",
    "print(distances)\n",
    "print(np.argmin(distances))\n",
    "idx = np.argmin(distances)\n",
    "print(best_individual[idx])\n"
   ]
  },
  {
   "cell_type": "markdown",
   "metadata": {},
   "source": [
    "### rmse 계산하기"
   ]
  },
  {
   "cell_type": "code",
   "execution_count": 97,
   "metadata": {},
   "outputs": [
    {
     "name": "stdout",
     "output_type": "stream",
     "text": [
      "8\n",
      "(8,)\n"
     ]
    }
   ],
   "source": [
    "res = best_individual[idx]\n",
    "print(len(res[0]))\n",
    "print(one_x.shape)\n"
   ]
  },
  {
   "cell_type": "code",
   "execution_count": 100,
   "metadata": {},
   "outputs": [
    {
     "data": {
      "text/plain": [
       "array([0.10730594, 0.40631394, 0.54472764, 0.65346535, 0.27149321,\n",
       "       0.26453488, 0.51470588, 0.        ])"
      ]
     },
     "execution_count": 100,
     "metadata": {},
     "output_type": "execute_result"
    }
   ],
   "source": [
    "one_x"
   ]
  },
  {
   "cell_type": "code",
   "execution_count": 101,
   "metadata": {},
   "outputs": [
    {
     "data": {
      "text/plain": [
       "[array([0.25608177, 0.25608177, 0.25608177, 0.25829143, 0.25492303,\n",
       "        0.25608177, 0.25608177, 0.16541575])]"
      ]
     },
     "execution_count": 101,
     "metadata": {},
     "output_type": "execute_result"
    }
   ],
   "source": [
    "res"
   ]
  },
  {
   "cell_type": "code",
   "execution_count": 102,
   "metadata": {},
   "outputs": [
    {
     "data": {
      "text/plain": [
       "array([[-0.14877583,  0.15023217,  0.28864587,  0.39517392,  0.01657018,\n",
       "         0.00845311,  0.25862411, -0.16541575]])"
      ]
     },
     "execution_count": 102,
     "metadata": {},
     "output_type": "execute_result"
    }
   ],
   "source": [
    "one_x - res"
   ]
  },
  {
   "cell_type": "code",
   "execution_count": 99,
   "metadata": {},
   "outputs": [
    {
     "name": "stdout",
     "output_type": "stream",
     "text": [
      "0.2175941297937622\n"
     ]
    }
   ],
   "source": [
    "rmse = np.sqrt(np.mean((one_x - res) ** 2))\n",
    "print(rmse)"
   ]
  }
 ],
 "metadata": {
  "kernelspec": {
   "display_name": "base",
   "language": "python",
   "name": "python3"
  },
  "language_info": {
   "codemirror_mode": {
    "name": "ipython",
    "version": 3
   },
   "file_extension": ".py",
   "mimetype": "text/x-python",
   "name": "python",
   "nbconvert_exporter": "python",
   "pygments_lexer": "ipython3",
   "version": "3.10.13"
  }
 },
 "nbformat": 4,
 "nbformat_minor": 2
}
